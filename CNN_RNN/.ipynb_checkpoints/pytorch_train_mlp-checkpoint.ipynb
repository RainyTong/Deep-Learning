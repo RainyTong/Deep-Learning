{
 "cells": [
  {
   "cell_type": "code",
   "execution_count": 29,
   "metadata": {},
   "outputs": [
    {
     "data": {
      "text/plain": [
       "<matplotlib.collections.PathCollection at 0x128f20400>"
      ]
     },
     "execution_count": 29,
     "metadata": {},
     "output_type": "execute_result"
    },
    {
     "data": {
      "image/png": "[encoded data removed]",
      "text/plain": [
       "<Figure size 432x288 with 1 Axes>"
      ]
     },
     "metadata": {
      "needs_background": "light"
     },
     "output_type": "display_data"
    }
   ],
   "source": [
    "from __future__ import absolute_import\n",
    "from __future__ import division\n",
    "from __future__ import print_function\n",
    "\n",
    "import argparse\n",
    "import numpy as np\n",
    "import os\n",
    "# from mlp_numpy import MLP\n",
    "from pytorch_mlp import *\n",
    "from sklearn import datasets\n",
    "import matplotlib.pyplot as plt\n",
    "import random\n",
    "\n",
    "# Default constants\n",
    "DNN_HIDDEN_UNITS_DEFAULT = '20 18'\n",
    "LEARNING_RATE_DEFAULT = 1e-2\n",
    "MAX_EPOCHS_DEFAULT = 1500\n",
    "EVAL_FREQ_DEFAULT = 10\n",
    "\n",
    "FLAGS = None\n",
    "\n",
    "# Generate dataset\n",
    "x,t = datasets.make_moons(1000)\n",
    "\n",
    "\n",
    "# Show how x looks\n",
    "plt.scatter(x[:,0],x[:,1])\n",
    "\n",
    "# Convert t to one-hot\n",
    "# def convert_to_one_hot(y, C):\n",
    "#     return np.eye(C)[y.reshape(-1)]\n",
    "    \n",
    "# t = convert_to_one_hot(t,2)\n",
    "\n",
    "# Devide training data and test data\n",
    "train_x = x[:800]\n",
    "train_t = t[:800]\n",
    "test_x = x[800:]\n",
    "test_t = t[800:]\n",
    "\n",
    "# Show how test data x looks\n",
    "plt.scatter(test_x[:,0],test_x[:,1])\n"
   ]
  },
  {
   "cell_type": "code",
   "execution_count": 30,
   "metadata": {},
   "outputs": [
    {
     "data": {
      "text/plain": [
       "array([0.03475644, 0.23864799])"
      ]
     },
     "execution_count": 30,
     "metadata": {},
     "output_type": "execute_result"
    }
   ],
   "source": [
    "train_x[0]"
   ]
  },
  {
   "cell_type": "code",
   "execution_count": 31,
   "metadata": {},
   "outputs": [
    {
     "data": {
      "text/plain": [
       "1"
      ]
     },
     "execution_count": 31,
     "metadata": {},
     "output_type": "execute_result"
    }
   ],
   "source": [
    "train_t[0]"
   ]
  },
  {
   "cell_type": "code",
   "execution_count": 38,
   "metadata": {},
   "outputs": [],
   "source": [
    "def train(option = \"sgd\"):\n",
    "    \"\"\"\n",
    "    Performs training and evaluation of MLP model.\n",
    "    NOTE: You should the model on the whole test set each eval_freq iterations.\n",
    "    \"\"\"\n",
    "    # YOUR TRAINING CODE GOES HERE\n",
    "    n_inputs = len(train_x[0])\n",
    "    \n",
    "    n_hidden = list(map(int, DNN_HIDDEN_UNITS_DEFAULT.split()))\n",
    "\n",
    "    n_classes = 2\n",
    "\n",
    "    mlp = MLP(n_inputs, n_hidden, n_classes)\n",
    "    \n",
    "#     loss = torch.nn.NLLLoss()\n",
    "    loss = torch.nn.CrossEntropyLoss()\n",
    "    \n",
    "#     optimizer = torch.optim.Adam(mlp.parameters(), lr=LEARNING_RATE_DEFAULT) \n",
    "    \n",
    "    # train   \n",
    "    predictions_train = []\n",
    "    labels_train = []\n",
    "    accu_train = []\n",
    "    losses = []\n",
    "    \n",
    "    for i in range(MAX_EPOCHS_DEFAULT):\n",
    "        \n",
    "#         if i != 0 and i % EVAL_FREQ_DEFAULT == 0:\n",
    "#             accu = accuracy(predictions_train, labels_train, \"train\")\n",
    "#             accu_train.append(accu)\n",
    "#             predictions_train = []\n",
    "#             labels_train = []\n",
    "        \n",
    "        randnum = random.randint(0,100)\n",
    "        random.seed(randnum)\n",
    "        random.shuffle(train_x)\n",
    "        random.seed(randnum)\n",
    "        random.shuffle(train_t)\n",
    "        \n",
    "        for j in range(len(train_x)):\n",
    "            input_x = torch.Tensor([train_x[j]])\n",
    "            label_t = torch.LongTensor([train_t[j]])\n",
    "            print(input_x)\n",
    "            print(label_t)\n",
    "#             optimizer.zero_grad()  # zero the gradient buffer\n",
    "\n",
    "            out = mlp(input_x)\n",
    "\n",
    "            output = loss(out, label_t)\n",
    "\n",
    "            output.backward()\n",
    "        \n",
    "#             optimizer.step()\n",
    "            break\n",
    "        \n",
    "       \n",
    "        predictions_train.append(out)\n",
    "        labels_train.append(label_t)\n",
    "            \n",
    "        print(\"epoch\"+str(i))\n",
    "\n",
    "        print(output)\n",
    "        break\n"
   ]
  },
  {
   "cell_type": "code",
   "execution_count": 39,
   "metadata": {},
   "outputs": [
    {
     "name": "stdout",
     "output_type": "stream",
     "text": [
      "tensor([[0.0348, 0.2386]])\n",
      "tensor([1])\n"
     ]
    },
    {
     "ename": "TypeError",
     "evalue": "__init__() got multiple values for argument 'dim'",
     "output_type": "error",
     "traceback": [
      "\u001b[0;31m-------------------------------------------------------------\u001b[0m",
      "\u001b[0;31mTypeError\u001b[0m                   Traceback (most recent call last)",
      "\u001b[0;32m<ipython-input-39-2da0ffaf5447>\u001b[0m in \u001b[0;36m<module>\u001b[0;34m\u001b[0m\n\u001b[0;32m----> 1\u001b[0;31m \u001b[0mtrain\u001b[0m\u001b[0;34m(\u001b[0m\u001b[0;34m)\u001b[0m\u001b[0;34m\u001b[0m\u001b[0m\n\u001b[0m",
      "\u001b[0;32m<ipython-input-38-cb4236dd354f>\u001b[0m in \u001b[0;36mtrain\u001b[0;34m(option)\u001b[0m\n\u001b[1;32m     45\u001b[0m \u001b[0;31m#             optimizer.zero_grad()  # zero the gradient buffer\u001b[0m\u001b[0;34m\u001b[0m\u001b[0;34m\u001b[0m\u001b[0m\n\u001b[1;32m     46\u001b[0m \u001b[0;34m\u001b[0m\u001b[0m\n\u001b[0;32m---> 47\u001b[0;31m             \u001b[0mout\u001b[0m \u001b[0;34m=\u001b[0m \u001b[0mmlp\u001b[0m\u001b[0;34m(\u001b[0m\u001b[0minput_x\u001b[0m\u001b[0;34m)\u001b[0m\u001b[0;34m\u001b[0m\u001b[0m\n\u001b[0m\u001b[1;32m     48\u001b[0m \u001b[0;34m\u001b[0m\u001b[0m\n\u001b[1;32m     49\u001b[0m             \u001b[0moutput\u001b[0m \u001b[0;34m=\u001b[0m \u001b[0mloss\u001b[0m\u001b[0;34m(\u001b[0m\u001b[0mout\u001b[0m\u001b[0;34m,\u001b[0m \u001b[0mlabel_t\u001b[0m\u001b[0;34m)\u001b[0m\u001b[0;34m\u001b[0m\u001b[0m\n",
      "\u001b[0;32m/Library/Frameworks/Python.framework/Versions/3.6/lib/python3.6/site-packages/torch/nn/modules/module.py\u001b[0m in \u001b[0;36m__call__\u001b[0;34m(self, *input, **kwargs)\u001b[0m\n\u001b[1;32m    487\u001b[0m             \u001b[0mresult\u001b[0m \u001b[0;34m=\u001b[0m \u001b[0mself\u001b[0m\u001b[0;34m.\u001b[0m\u001b[0m_slow_forward\u001b[0m\u001b[0;34m(\u001b[0m\u001b[0;34m*\u001b[0m\u001b[0minput\u001b[0m\u001b[0;34m,\u001b[0m \u001b[0;34m**\u001b[0m\u001b[0mkwargs\u001b[0m\u001b[0;34m)\u001b[0m\u001b[0;34m\u001b[0m\u001b[0m\n\u001b[1;32m    488\u001b[0m         \u001b[0;32melse\u001b[0m\u001b[0;34m:\u001b[0m\u001b[0;34m\u001b[0m\u001b[0m\n\u001b[0;32m--> 489\u001b[0;31m             \u001b[0mresult\u001b[0m \u001b[0;34m=\u001b[0m \u001b[0mself\u001b[0m\u001b[0;34m.\u001b[0m\u001b[0mforward\u001b[0m\u001b[0;34m(\u001b[0m\u001b[0;34m*\u001b[0m\u001b[0minput\u001b[0m\u001b[0;34m,\u001b[0m \u001b[0;34m**\u001b[0m\u001b[0mkwargs\u001b[0m\u001b[0;34m)\u001b[0m\u001b[0;34m\u001b[0m\u001b[0m\n\u001b[0m\u001b[1;32m    490\u001b[0m         \u001b[0;32mfor\u001b[0m \u001b[0mhook\u001b[0m \u001b[0;32min\u001b[0m \u001b[0mself\u001b[0m\u001b[0;34m.\u001b[0m\u001b[0m_forward_hooks\u001b[0m\u001b[0;34m.\u001b[0m\u001b[0mvalues\u001b[0m\u001b[0;34m(\u001b[0m\u001b[0;34m)\u001b[0m\u001b[0;34m:\u001b[0m\u001b[0;34m\u001b[0m\u001b[0m\n\u001b[1;32m    491\u001b[0m             \u001b[0mhook_result\u001b[0m \u001b[0;34m=\u001b[0m \u001b[0mhook\u001b[0m\u001b[0;34m(\u001b[0m\u001b[0mself\u001b[0m\u001b[0;34m,\u001b[0m \u001b[0minput\u001b[0m\u001b[0;34m,\u001b[0m \u001b[0mresult\u001b[0m\u001b[0;34m)\u001b[0m\u001b[0;34m\u001b[0m\u001b[0m\n",
      "\u001b[0;32m~/Repository/store/CS/大三下/深度学习/lab/Assignnent2/jupyter/pytorch_mlp.py\u001b[0m in \u001b[0;36mforward\u001b[0;34m(self, x)\u001b[0m\n\u001b[1;32m     42\u001b[0m \u001b[0;34m\u001b[0m\u001b[0m\n\u001b[1;32m     43\u001b[0m         \u001b[0mout\u001b[0m \u001b[0;34m=\u001b[0m \u001b[0mself\u001b[0m\u001b[0;34m.\u001b[0m\u001b[0mout\u001b[0m\u001b[0;34m(\u001b[0m\u001b[0mout\u001b[0m\u001b[0;34m)\u001b[0m\u001b[0;34m\u001b[0m\u001b[0m\n\u001b[0;32m---> 44\u001b[0;31m \u001b[0;31m#         out = F.log_softmax(out,dim=-1)\u001b[0m\u001b[0;34m\u001b[0m\u001b[0;34m\u001b[0m\u001b[0m\n\u001b[0m\u001b[1;32m     45\u001b[0m         \u001b[0;32mreturn\u001b[0m \u001b[0mout\u001b[0m\u001b[0;34m\u001b[0m\u001b[0m\n",
      "\u001b[0;31mTypeError\u001b[0m: __init__() got multiple values for argument 'dim'"
     ]
    }
   ],
   "source": [
    "train()"
   ]
  },
  {
   "cell_type": "code",
   "execution_count": null,
   "metadata": {},
   "outputs": [],
   "source": []
  },
  {
   "cell_type": "code",
   "execution_count": null,
   "metadata": {},
   "outputs": [],
   "source": []
  }
 ],
 "metadata": {
  "kernelspec": {
   "display_name": "Python 3",
   "language": "python",
   "name": "python3"
  },
  "language_info": {
   "codemirror_mode": {
    "name": "ipython",
    "version": 3
   },
   "file_extension": ".py",
   "mimetype": "text/x-python",
   "name": "python",
   "nbconvert_exporter": "python",
   "pygments_lexer": "ipython3",
   "version": "3.6.6"
  }
 },
 "nbformat": 4,
 "nbformat_minor": 2
}
