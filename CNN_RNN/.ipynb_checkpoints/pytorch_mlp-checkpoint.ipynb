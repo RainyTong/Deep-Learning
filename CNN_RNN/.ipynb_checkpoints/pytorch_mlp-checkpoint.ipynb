{
 "cells": [
  {
   "cell_type": "code",
   "execution_count": 1,
   "metadata": {},
   "outputs": [],
   "source": [
    "from __future__ import absolute_import\n",
    "from __future__ import division\n",
    "from __future__ import print_function\n",
    "\n",
    "import torch\n",
    "import torch.nn as nn\n",
    "import torch.nn.functional as F\n",
    "\n",
    "class MLP(nn.Module):\n",
    "    \n",
    "    def __init__(self, n_inputs, n_hidden, n_classes):\n",
    "        \"\"\"\n",
    "        Initializes multi-layer perceptron object.    \n",
    "        Args:\n",
    "            n_inputs: number of inputs (i.e., dimension of an input vector).\n",
    "            n_hidden: list of integers, where each integer is the number of units in each linear layer\n",
    "            n_classes: number of classes of the classification problem (i.e., output dimension of the network)\n",
    "        \"\"\"\n",
    "        super(MLP, self).__init__()\n",
    "        # Hidden Layers\n",
    "        self.linears = nn.ModuleList()\n",
    "        self.linears.append(nn.Linear(n_inputs, n_hidden[0]))\n",
    "        for k in range(len(n_hidden)-1):\n",
    "            self.linears.append(nn.Linear(n_hidden[k], n_hidden[k+1]))\n",
    "        \n",
    "        # Output Layer\n",
    "        self.out = nn.Linear(n_hidden[-1], n_classes)\n",
    "\n",
    "\n",
    "    def forward(self, x):\n",
    "        \"\"\"\n",
    "        Predict network output from input by passing it through several layers.\n",
    "        Args:\n",
    "            x: input to the network\n",
    "        Returns:\n",
    "            out: output of the network\n",
    "        \"\"\"\n",
    "        out = x\n",
    "        for linear_layer in self.linears:\n",
    "            out = linear_layer(out)\n",
    "            out = F.relu(out)\n",
    "\n",
    "        out = self.out(out)\n",
    "#         out = F.log_softmax(out,dim=-1)\n",
    "        return out\n"
   ]
  },
  {
   "cell_type": "code",
   "execution_count": null,
   "metadata": {},
   "outputs": [],
   "source": []
  }
 ],
 "metadata": {
  "kernelspec": {
   "display_name": "Python 3",
   "language": "python",
   "name": "python3"
  },
  "language_info": {
   "codemirror_mode": {
    "name": "ipython",
    "version": 3
   },
   "file_extension": ".py",
   "mimetype": "text/x-python",
   "name": "python",
   "nbconvert_exporter": "python",
   "pygments_lexer": "ipython3",
   "version": "3.6.6"
  }
 },
 "nbformat": 4,
 "nbformat_minor": 2
}
