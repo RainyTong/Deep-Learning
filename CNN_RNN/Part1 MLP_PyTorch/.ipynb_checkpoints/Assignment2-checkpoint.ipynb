{
 "cells": [
  {
   "cell_type": "markdown",
   "metadata": {},
   "source": [
    "# Assignment2"
   ]
  },
  {
   "cell_type": "markdown",
   "metadata": {},
   "source": [
    "## part 1-task 1\n",
    "Implement the MLP architecture and the training procedure "
   ]
  },
  {
   "cell_type": "markdown",
   "metadata": {},
   "source": [
    "### pytorch implementation of MLP"
   ]
  },
  {
   "cell_type": "code",
   "execution_count": 2,
   "metadata": {},
   "outputs": [],
   "source": [
    "from sklearn import metrics\n",
    "import argparse\n",
    "import torch.autograd as autograd\n",
    "from sklearn import datasets as sd\n",
    "import torch\n",
    "import torch.nn as nn\n",
    "import torch.nn.functional as F\n",
    "import numpy as np\n",
    "\n",
    "import torch.optim as optim\n",
    "# Default constants\n",
    "DNN_HIDDEN_UNITS_DEFAULT = '20'\n",
    "LEARNING_RATE_DEFAULT = 1e-2\n",
    "MAX_EPOCHS_DEFAULT = 1500\n",
    "EVAL_FREQ_DEFAULT = 10"
   ]
  },
  {
   "cell_type": "code",
   "execution_count": 5,
   "metadata": {},
   "outputs": [],
   "source": [
    "class PyMLP(nn.Module):\n",
    "\n",
    "    def __init__(self, n_inputs=2, n_hidden=[3], n_classes=2):\n",
    "        \"\"\"\n",
    "        Initializes multi-layer perceptron object.    \n",
    "        Args:\n",
    "            n_inputs: number of inputs (i.e., dimension of an input vector).\n",
    "            n_hidden: list of integers, where each integer is the number of units in each linear layer\n",
    "            n_classes: number of classes of the classification problem (i.e., output dimension of the network)\n",
    "        \"\"\"\n",
    "        super(PyMLP, self).__init__()\n",
    "        self.n_inputs = n_inputs\n",
    "        self.n_hidden = n_hidden\n",
    "        self.n_classes = n_classes\n",
    "\n",
    "        self.linear_layers = []\n",
    "        self.linear_layers.append(nn.Linear(n_inputs, n_hidden[0]))\n",
    "        for i in range(len(n_hidden) - 1):\n",
    "            self.linear_layers.append(nn.Linear(n_hidden[i], n_hidden[i + 1]))\n",
    "        # building the model\n",
    "        self.linear_layers.append(nn.Linear(n_hidden[-1], self.n_classes))\n",
    "        self.linear_layers = nn.ModuleList(self.linear_layers)\n",
    "        # self.SM = nn.Softmax()\n",
    "\n",
    "\n",
    "    def forward(self, x):\n",
    "        \"\"\"\n",
    "        Predict network output from input by passing it through several layers.\n",
    "        Args:\n",
    "            x: input to the network\n",
    "        Returns:\n",
    "            out: output of the network\n",
    "        \"\"\"\n",
    "        input = x\n",
    "        for i in range(len(self.linear_layers)-1):\n",
    "            input = F.relu(self.linear_layers[i].forward(input))\n",
    "        input = F.softmax(self.linear_layers[-1].forward(input))\n",
    "        return input"
   ]
  },
  {
   "cell_type": "markdown",
   "metadata": {},
   "source": [
    "### training procedure implementation"
   ]
  },
  {
   "cell_type": "code",
   "execution_count": 6,
   "metadata": {},
   "outputs": [],
   "source": [
    "def train(mlp,x_train, y_train, x_test, y_test, style=\"sgd\",curves=True, epochs=MAX_EPOCHS_DEFAULT):\n",
    "    \"\"\"\n",
    "    Performs training and evaluation of MLP model.\n",
    "    NOTE: You should the model on the whole test set each eval_freq iterations.\n",
    "    \"\"\"\n",
    "    # YOUR TRAINING CODE GOES HERE\n",
    "    x_train = torch.Tensor(x_train)\n",
    "    y_train = torch.LongTensor(y_train)\n",
    "    # print(\"x_train\",x_train)\n",
    "    # print(\"y_train\",y_train)\n",
    "    train_accuracies = []\n",
    "    test_accuracies = []\n",
    "    if style == \"sgd\":\n",
    "        criterion = nn.CrossEntropyLoss()\n",
    "        optimizer = optim.SGD(mlp.parameters(), lr=LEARNING_RATE_DEFAULT)\n",
    "        print(\"begin training...\")\n",
    "        for epoch in range(epochs):\n",
    "            ouput = None\n",
    "            loss = None\n",
    "            for xi, yi in zip(x_train, y_train):\n",
    "                optimizer.zero_grad()\n",
    "                output = mlp(xi).view(1,-1)\n",
    "                # print(output)\n",
    "                target = yi.view(1,-1)[0]\n",
    "\n",
    "                loss = criterion(output, target)\n",
    "                loss.backward()\n",
    "                optimizer.step()\n",
    "            # Train Set Accuracy\n",
    "            output = mlp(torch.Tensor(x_train))\n",
    "            output = to_class_index(output)\n",
    "            acc = accuracy(y_train, output)\n",
    "            train_accuracies.append(acc)\n",
    "            # Test Set Accuracy\n",
    "            output = mlp(torch.Tensor(x_test))\n",
    "            output = to_class_index(output)\n",
    "            acc = accuracy(y_test, output)\n",
    "            test_accuracies.append(acc)\n",
    "    #             print('Epoch [%d/%d]Loss: %.4f Acc: %.3f' % (epoch + 1, epochs, loss.data[0], acc))\n",
    "\n",
    "    return train_accuracies, test_accuracies\n",
    "\n",
    "def accuracy(predictions, targets):\n",
    "    accuracy = metrics.accuracy_score(targets, predictions)\n",
    "    return accuracy\n",
    "\n",
    "def getdata():\n",
    "    x, y = sd.make_moons(1000, noise=0.01)\n",
    "  # seperate the training data and test data\n",
    "    sep = (int)(0.8 * len(x))\n",
    "    x_train = x[:sep,:]\n",
    "    x_test = x[sep:,:]\n",
    "    y_train = y[:sep]\n",
    "    y_test = y[sep:]\n",
    "    return x_train, x_test, y_train, y_test\n",
    "\n",
    "def to_class_index(output):\n",
    "    prediction = []\n",
    "    output_list = output.tolist()\n",
    "    for i in output_list:\n",
    "        max_ind = i.index(max(i))\n",
    "        prediction.append(max_ind)\n",
    "    return torch.Tensor(prediction).long()"
   ]
  },
  {
   "cell_type": "markdown",
   "metadata": {},
   "source": [
    "## Part 1-task 2\n",
    "Train both your numpy version of MLP and the PyTorch version on the same data. "
   ]
  },
  {
   "cell_type": "code",
   "execution_count": 4,
   "metadata": {
    "scrolled": true
   },
   "outputs": [
    {
     "name": "stdout",
     "output_type": "stream",
     "text": [
      "begin training...\n"
     ]
    },
    {
     "name": "stderr",
     "output_type": "stream",
     "text": [
      "C:\\APPs\\Anacoda\\Anaconda3\\lib\\site-packages\\ipykernel_launcher.py:37: UserWarning: Implicit dimension choice for softmax has been deprecated. Change the call to include dim=X as an argument.\n"
     ]
    },
    {
     "data": {
      "text/plain": [
       "<Figure size 640x480 with 1 Axes>"
      ]
     },
     "metadata": {},
     "output_type": "display_data"
    },
    {
     "name": "stdout",
     "output_type": "stream",
     "text": [
      "final train accuracy: 1.0\n",
      "final test accuracy: 1.0\n"
     ]
    }
   ],
   "source": [
    "import matplotlib.pyplot as plt\n",
    "\n",
    "mlp = PyMLP(2,[20],2)\n",
    "x_train, x_test, y_train, y_test = getdata()\n",
    "train_accuracies, test_accuracies = train(mlp, x_train, y_train, x_test, y_test,curves=True ,epochs=70)\n",
    "\n",
    "plt.plot(np.arange(0, len(train_accuracies)), train_accuracies, label=\"train accuracy\")\n",
    "plt.plot(np.arange(0, len(test_accuracies)), test_accuracies, label=\"test accuracy\")\n",
    "plt.title('pytorch mlp sgd test', fontsize=17)\n",
    "plt.legend()\n",
    "plt.show()\n",
    "print(\"final train accuracy:\", train_accuracies[-1])\n",
    "print(\"final test accuracy:\", test_accuracies[-1])"
   ]
  },
  {
   "cell_type": "markdown",
   "metadata": {},
   "source": [
    "### Compare with the MLP implemented by numpy in Assignment1"
   ]
  },
  {
   "cell_type": "code",
   "execution_count": 7,
   "metadata": {},
   "outputs": [],
   "source": [
    "def onehot_trans(y):\n",
    "    out = np.zeros((len(y), 2))\n",
    "    for i in range(len(y)):\n",
    "        if y[i]:\n",
    "            out[i] = [1,0]\n",
    "        else:\n",
    "            out[i] = [0,1]\n",
    "    return out"
   ]
  },
  {
   "cell_type": "code",
   "execution_count": 6,
   "metadata": {
    "scrolled": true
   },
   "outputs": [
    {
     "name": "stdout",
     "output_type": "stream",
     "text": [
      "in epoch 0\n",
      "Epoch [1/70]testAcc: 0.4950 trainAcc: 0.501\n",
      "in epoch 1\n",
      "Epoch [2/70]testAcc: 0.4950 trainAcc: 0.501\n",
      "in epoch 2\n",
      "Epoch [3/70]testAcc: 0.8450 trainAcc: 0.802\n",
      "in epoch 3\n",
      "Epoch [4/70]testAcc: 0.8700 trainAcc: 0.848\n",
      "in epoch 4\n",
      "Epoch [5/70]testAcc: 0.8950 trainAcc: 0.879\n",
      "in epoch 5\n",
      "Epoch [6/70]testAcc: 0.8950 trainAcc: 0.889\n",
      "in epoch 6\n",
      "Epoch [7/70]testAcc: 0.8950 trainAcc: 0.890\n",
      "in epoch 7\n",
      "Epoch [8/70]testAcc: 0.8950 trainAcc: 0.891\n",
      "in epoch 8\n",
      "Epoch [9/70]testAcc: 0.8950 trainAcc: 0.890\n",
      "in epoch 9\n",
      "Epoch [10/70]testAcc: 0.8950 trainAcc: 0.890\n",
      "in epoch 10\n",
      "Epoch [11/70]testAcc: 0.9000 trainAcc: 0.890\n",
      "in epoch 11\n",
      "Epoch [12/70]testAcc: 0.9000 trainAcc: 0.890\n",
      "in epoch 12\n",
      "Epoch [13/70]testAcc: 0.9000 trainAcc: 0.890\n",
      "in epoch 13\n",
      "Epoch [14/70]testAcc: 0.9000 trainAcc: 0.890\n",
      "in epoch 14\n",
      "Epoch [15/70]testAcc: 0.9000 trainAcc: 0.890\n",
      "in epoch 15\n",
      "Epoch [16/70]testAcc: 0.9000 trainAcc: 0.890\n",
      "in epoch 16\n",
      "Epoch [17/70]testAcc: 0.9000 trainAcc: 0.890\n",
      "in epoch 17\n",
      "Epoch [18/70]testAcc: 0.9000 trainAcc: 0.890\n",
      "in epoch 18\n",
      "Epoch [19/70]testAcc: 0.9000 trainAcc: 0.890\n",
      "in epoch 19\n",
      "Epoch [20/70]testAcc: 0.9000 trainAcc: 0.890\n",
      "in epoch 20\n",
      "Epoch [21/70]testAcc: 0.9000 trainAcc: 0.890\n",
      "in epoch 21\n",
      "Epoch [22/70]testAcc: 0.9000 trainAcc: 0.890\n",
      "in epoch 22\n",
      "Epoch [23/70]testAcc: 0.9000 trainAcc: 0.890\n",
      "in epoch 23\n",
      "Epoch [24/70]testAcc: 0.9000 trainAcc: 0.890\n",
      "in epoch 24\n",
      "Epoch [25/70]testAcc: 0.9000 trainAcc: 0.890\n",
      "in epoch 25\n",
      "Epoch [26/70]testAcc: 0.9000 trainAcc: 0.890\n",
      "in epoch 26\n",
      "Epoch [27/70]testAcc: 0.9000 trainAcc: 0.890\n",
      "in epoch 27\n",
      "Epoch [28/70]testAcc: 0.9000 trainAcc: 0.890\n",
      "in epoch 28\n",
      "Epoch [29/70]testAcc: 0.9000 trainAcc: 0.890\n",
      "in epoch 29\n",
      "Epoch [30/70]testAcc: 0.9000 trainAcc: 0.890\n",
      "in epoch 30\n",
      "Epoch [31/70]testAcc: 0.9000 trainAcc: 0.890\n",
      "in epoch 31\n",
      "Epoch [32/70]testAcc: 0.9000 trainAcc: 0.890\n",
      "in epoch 32\n",
      "Epoch [33/70]testAcc: 0.9000 trainAcc: 0.890\n",
      "in epoch 33\n",
      "Epoch [34/70]testAcc: 0.9000 trainAcc: 0.890\n",
      "in epoch 34\n",
      "Epoch [35/70]testAcc: 0.9000 trainAcc: 0.890\n",
      "in epoch 35\n",
      "Epoch [36/70]testAcc: 0.9000 trainAcc: 0.890\n",
      "in epoch 36\n",
      "Epoch [37/70]testAcc: 0.9000 trainAcc: 0.890\n",
      "in epoch 37\n",
      "Epoch [38/70]testAcc: 0.9000 trainAcc: 0.890\n",
      "in epoch 38\n",
      "Epoch [39/70]testAcc: 0.9000 trainAcc: 0.890\n",
      "in epoch 39\n",
      "Epoch [40/70]testAcc: 0.9000 trainAcc: 0.890\n",
      "in epoch 40\n",
      "Epoch [41/70]testAcc: 0.9000 trainAcc: 0.891\n",
      "in epoch 41\n",
      "Epoch [42/70]testAcc: 0.9000 trainAcc: 0.891\n",
      "in epoch 42\n",
      "Epoch [43/70]testAcc: 0.9000 trainAcc: 0.891\n",
      "in epoch 43\n",
      "Epoch [44/70]testAcc: 0.9000 trainAcc: 0.891\n",
      "in epoch 44\n",
      "Epoch [45/70]testAcc: 0.9000 trainAcc: 0.891\n",
      "in epoch 45\n",
      "Epoch [46/70]testAcc: 0.9000 trainAcc: 0.891\n",
      "in epoch 46\n",
      "Epoch [47/70]testAcc: 0.9000 trainAcc: 0.891\n",
      "in epoch 47\n",
      "Epoch [48/70]testAcc: 0.9000 trainAcc: 0.891\n",
      "in epoch 48\n",
      "Epoch [49/70]testAcc: 0.9000 trainAcc: 0.891\n",
      "in epoch 49\n",
      "Epoch [50/70]testAcc: 0.9000 trainAcc: 0.891\n",
      "in epoch 50\n",
      "Epoch [51/70]testAcc: 0.9000 trainAcc: 0.891\n",
      "in epoch 51\n",
      "Epoch [52/70]testAcc: 0.9000 trainAcc: 0.891\n",
      "in epoch 52\n",
      "Epoch [53/70]testAcc: 0.9000 trainAcc: 0.891\n",
      "in epoch 53\n",
      "Epoch [54/70]testAcc: 0.9000 trainAcc: 0.891\n",
      "in epoch 54\n",
      "Epoch [55/70]testAcc: 0.9000 trainAcc: 0.891\n",
      "in epoch 55\n",
      "Epoch [56/70]testAcc: 0.9000 trainAcc: 0.891\n",
      "in epoch 56\n",
      "Epoch [57/70]testAcc: 0.9000 trainAcc: 0.891\n",
      "in epoch 57\n",
      "Epoch [58/70]testAcc: 0.9000 trainAcc: 0.891\n",
      "in epoch 58\n",
      "Epoch [59/70]testAcc: 0.9000 trainAcc: 0.891\n",
      "in epoch 59\n",
      "Epoch [60/70]testAcc: 0.9000 trainAcc: 0.891\n",
      "in epoch 60\n",
      "Epoch [61/70]testAcc: 0.9000 trainAcc: 0.891\n",
      "in epoch 61\n",
      "Epoch [62/70]testAcc: 0.9000 trainAcc: 0.891\n",
      "in epoch 62\n",
      "Epoch [63/70]testAcc: 0.9000 trainAcc: 0.891\n",
      "in epoch 63\n",
      "Epoch [64/70]testAcc: 0.9000 trainAcc: 0.891\n",
      "in epoch 64\n",
      "Epoch [65/70]testAcc: 0.9000 trainAcc: 0.891\n",
      "in epoch 65\n",
      "Epoch [66/70]testAcc: 0.9000 trainAcc: 0.891\n",
      "in epoch 66\n",
      "Epoch [67/70]testAcc: 0.9000 trainAcc: 0.891\n",
      "in epoch 67\n",
      "Epoch [68/70]testAcc: 0.9000 trainAcc: 0.891\n",
      "in epoch 68\n",
      "Epoch [69/70]testAcc: 0.9000 trainAcc: 0.891\n",
      "in epoch 69\n",
      "Epoch [70/70]testAcc: 0.9000 trainAcc: 0.891\n"
     ]
    },
    {
     "data": {
      "image/png": "[encoded data removed]",
      "text/plain": [
       "<Figure size 432x288 with 1 Axes>"
      ]
     },
     "metadata": {},
     "output_type": "display_data"
    },
    {
     "name": "stdout",
     "output_type": "stream",
     "text": [
      "final train accuracy: 0.89125\n",
      "final test accuracy: 0.9\n"
     ]
    }
   ],
   "source": [
    "from Part_1.np_train_mlp import np_train\n",
    "from Part_1.np_mlp import MyMLP\n",
    "x_train, x_test, y_train, y_test = getdata()\n",
    "y_train = onehot_trans(y_train)\n",
    "y_test = onehot_trans(y_test)\n",
    "mymlp = MyMLP(x_train, y_train)\n",
    "train_accuracies, test_accuracies = np_train(mymlp,x_train, y_train, x_test, y_test, style=\"sgd\", epochs=70)\n",
    "# print(train_accuracies)\n",
    "# print(test_accuracies)\n",
    "plt.plot(np.arange(0, len(train_accuracies)), train_accuracies, label=\"train accuracy\")\n",
    "plt.plot(np.arange(0, len(test_accuracies)), test_accuracies, label=\"test accuracy\")\n",
    "plt.title('pytorch mlp sgd test', fontsize=17)\n",
    "plt.legend()\n",
    "plt.show()\n",
    "print(\"final train accuracy:\", train_accuracies[-1])\n",
    "print(\"final test accuracy:\", test_accuracies[-1])"
   ]
  },
  {
   "cell_type": "markdown",
   "metadata": {},
   "source": [
    "## Part1 -task 3\n",
    "Using torchvision.datasets.CIFAR10 load the CIFAR10 dataset. Try to obtain the highest accuracy you can on this dataset."
   ]
  },
  {
   "cell_type": "markdown",
   "metadata": {},
   "source": [
    "Load data"
   ]
  },
  {
   "cell_type": "code",
   "execution_count": 1,
   "metadata": {},
   "outputs": [
    {
     "name": "stdout",
     "output_type": "stream",
     "text": [
      "Files already downloaded and verified\n",
      "Files already downloaded and verified\n"
     ]
    }
   ],
   "source": [
    "import torch\n",
    "import torchvision\n",
    "import torchvision.transforms as transforms\n",
    "transform = transforms.Compose([transforms.ToTensor(),transforms.Normalize((0.5, 0.5, 0.5), (0.5, 0.5, 0.5))])\n",
    "\n",
    "trainset = torchvision.datasets.CIFAR10(root='./data', train=True, download=True, transform=transform)\n",
    "trainloader = torch.utils.data.DataLoader(trainset, batch_size=10, shuffle=True, num_workers=2)\n",
    "testset = torchvision.datasets.CIFAR10(root='./data', train=False, download=True, transform=transform)\n",
    "testloader = torch.utils.data.DataLoader(testset, batch_size=10, shuffle=False, num_workers=2)\n",
    "\n",
    "classes = ('plane', 'car', 'bird', 'cat',\n",
    "           'deer', 'dog', 'frog', 'horse', 'ship', 'truck')"
   ]
  },
  {
   "cell_type": "markdown",
   "metadata": {},
   "source": [
    "Define a train function for CIFAR10"
   ]
  },
  {
   "cell_type": "code",
   "execution_count": 18,
   "metadata": {},
   "outputs": [],
   "source": [
    "def cif_train(mlp,epochs=MAX_EPOCHS_DEFAULT):\n",
    "    losses = []\n",
    "    accuracies = []\n",
    "    device = torch.device(\"cuda:0\" if torch.cuda.is_available() else \"cpu\")\n",
    "    print(\"device is \", device)\n",
    "    mlp.to(device)\n",
    "\n",
    "    criterion = nn.CrossEntropyLoss()\n",
    "    optimizer = optim.Adam(mlp.parameters(), lr=0.001)\n",
    "    for epoch in range(epochs):  # loop over the dataset multiple times\n",
    "\n",
    "        running_loss = 0.0\n",
    "        for i, data in enumerate(trainloader, 0):\n",
    "            # get the inputs\n",
    "            inputs, labels = data\n",
    "            inputs = inputs.view(-1,3072)\n",
    "            inputs, labels = inputs.to(device), labels.to(device)\n",
    "            # zero the parameter gradients\n",
    "            optimizer.zero_grad()\n",
    "            \n",
    "            # forward + backward + optimize\n",
    "            outputs = mlp(inputs)\n",
    "            loss = criterion(outputs, labels)\n",
    "            loss.backward()\n",
    "            optimizer.step()\n",
    "\n",
    "            # print statistics\n",
    "            running_loss += loss.item()\n",
    "            if i % 1000 == 999:    # print every 2000 mini-batches\n",
    "                accuracies.append(getaccuracy())\n",
    "                losses.append(running_loss / 1000)\n",
    "                print('[%d, %5d] loss: %.3f' %\n",
    "                    (epoch + 1, i + 1, running_loss / 1000))\n",
    "                running_loss = 0.0\n",
    "\n",
    "    print('Finished Training')\n",
    "    return accuracies, losses\n",
    "\n",
    "def getaccuracy():\n",
    "    device = torch.device(\"cuda:0\" if torch.cuda.is_available() else \"cpu\")\n",
    "    correct = 0\n",
    "    total = 0\n",
    "    with torch.no_grad():\n",
    "        for data in testloader:\n",
    "            images, labels = data\n",
    "            images = images.view(-1,3072)\n",
    "            images, labels = images.to(device), labels.to(device)\n",
    "            outputs = pymlp(images)\n",
    "            _, predicted = torch.max(outputs.data, 1)\n",
    "            total += labels.size(0)\n",
    "            correct += (predicted == labels).sum().item()\n",
    "    return correct / total"
   ]
  },
  {
   "cell_type": "code",
   "execution_count": 20,
   "metadata": {
    "scrolled": true
   },
   "outputs": [
    {
     "name": "stdout",
     "output_type": "stream",
     "text": [
      "device is  cuda:0\n"
     ]
    },
    {
     "name": "stderr",
     "output_type": "stream",
     "text": [
      "C:\\APPs\\Anacoda\\Anaconda3\\lib\\site-packages\\ipykernel_launcher.py:37: UserWarning: Implicit dimension choice for softmax has been deprecated. Change the call to include dim=X as an argument.\n"
     ]
    },
    {
     "name": "stdout",
     "output_type": "stream",
     "text": [
      "[1,  1000] loss: 2.209\n",
      "[1,  2000] loss: 2.176\n",
      "[1,  3000] loss: 2.158\n",
      "[1,  4000] loss: 2.148\n",
      "[1,  5000] loss: 2.168\n",
      "[2,  1000] loss: 2.168\n",
      "[2,  2000] loss: 2.162\n",
      "[2,  3000] loss: 2.192\n",
      "[2,  4000] loss: 2.193\n",
      "[2,  5000] loss: 2.182\n",
      "Finished Training\n"
     ]
    },
    {
     "ename": "NameError",
     "evalue": "name 'plt' is not defined",
     "output_type": "error",
     "traceback": [
      "\u001b[1;31m---------------------------------------------------------------------------\u001b[0m",
      "\u001b[1;31mNameError\u001b[0m                                 Traceback (most recent call last)",
      "\u001b[1;32m<ipython-input-20-a21af93fcb74>\u001b[0m in \u001b[0;36m<module>\u001b[1;34m()\u001b[0m\n\u001b[0;32m      1\u001b[0m \u001b[0mpymlp\u001b[0m \u001b[1;33m=\u001b[0m \u001b[0mPyMLP\u001b[0m\u001b[1;33m(\u001b[0m\u001b[0mn_inputs\u001b[0m\u001b[1;33m=\u001b[0m\u001b[1;36m3072\u001b[0m\u001b[1;33m,\u001b[0m \u001b[0mn_hidden\u001b[0m \u001b[1;33m=\u001b[0m \u001b[1;33m[\u001b[0m\u001b[1;36m500\u001b[0m\u001b[1;33m,\u001b[0m \u001b[1;36m100\u001b[0m\u001b[1;33m,\u001b[0m \u001b[1;36m10\u001b[0m\u001b[1;33m]\u001b[0m\u001b[1;33m,\u001b[0m \u001b[0mn_classes\u001b[0m\u001b[1;33m=\u001b[0m\u001b[1;36m10\u001b[0m\u001b[1;33m)\u001b[0m\u001b[1;33m\u001b[0m\u001b[1;33m\u001b[0m\u001b[0m\n\u001b[0;32m      2\u001b[0m \u001b[0maccuracies\u001b[0m\u001b[1;33m,\u001b[0m \u001b[0mlosses\u001b[0m \u001b[1;33m=\u001b[0m \u001b[0mcif_train\u001b[0m\u001b[1;33m(\u001b[0m\u001b[0mpymlp\u001b[0m\u001b[1;33m,\u001b[0m \u001b[0mepochs\u001b[0m \u001b[1;33m=\u001b[0m \u001b[1;36m2\u001b[0m\u001b[1;33m)\u001b[0m\u001b[1;33m\u001b[0m\u001b[1;33m\u001b[0m\u001b[0m\n\u001b[1;32m----> 3\u001b[1;33m \u001b[0mplt\u001b[0m\u001b[1;33m.\u001b[0m\u001b[0mplot\u001b[0m\u001b[1;33m(\u001b[0m\u001b[0mnp\u001b[0m\u001b[1;33m.\u001b[0m\u001b[0marange\u001b[0m\u001b[1;33m(\u001b[0m\u001b[1;36m0\u001b[0m\u001b[1;33m,\u001b[0m \u001b[0mlen\u001b[0m\u001b[1;33m(\u001b[0m\u001b[0maccuracies\u001b[0m\u001b[1;33m)\u001b[0m\u001b[1;33m)\u001b[0m\u001b[1;33m,\u001b[0m \u001b[0maccuracies\u001b[0m\u001b[1;33m,\u001b[0m \u001b[0mlabel\u001b[0m\u001b[1;33m=\u001b[0m\u001b[1;34m\"test accuracy\"\u001b[0m\u001b[1;33m)\u001b[0m\u001b[1;33m\u001b[0m\u001b[1;33m\u001b[0m\u001b[0m\n\u001b[0m\u001b[0;32m      4\u001b[0m \u001b[0mplt\u001b[0m\u001b[1;33m.\u001b[0m\u001b[0mplot\u001b[0m\u001b[1;33m(\u001b[0m\u001b[0mnp\u001b[0m\u001b[1;33m.\u001b[0m\u001b[0marange\u001b[0m\u001b[1;33m(\u001b[0m\u001b[1;36m0\u001b[0m\u001b[1;33m,\u001b[0m \u001b[0mlen\u001b[0m\u001b[1;33m(\u001b[0m\u001b[0mlosses\u001b[0m\u001b[1;33m)\u001b[0m\u001b[1;33m)\u001b[0m\u001b[1;33m,\u001b[0m \u001b[0mlosses\u001b[0m\u001b[1;33m,\u001b[0m \u001b[0mlabel\u001b[0m\u001b[1;33m=\u001b[0m\u001b[1;34m\"loss\"\u001b[0m\u001b[1;33m)\u001b[0m\u001b[1;33m\u001b[0m\u001b[1;33m\u001b[0m\u001b[0m\n\u001b[0;32m      5\u001b[0m \u001b[0mplt\u001b[0m\u001b[1;33m.\u001b[0m\u001b[0mtitle\u001b[0m\u001b[1;33m(\u001b[0m\u001b[1;34m'pytorch mlp on CIFAR10'\u001b[0m\u001b[1;33m,\u001b[0m \u001b[0mfontsize\u001b[0m\u001b[1;33m=\u001b[0m\u001b[1;36m17\u001b[0m\u001b[1;33m)\u001b[0m\u001b[1;33m\u001b[0m\u001b[1;33m\u001b[0m\u001b[0m\n",
      "\u001b[1;31mNameError\u001b[0m: name 'plt' is not defined"
     ]
    }
   ],
   "source": [
    "pymlp = PyMLP(n_inputs=3072, n_hidden = [500, 100, 10], n_classes=10)\n",
    "accuracies, losses = cif_train(pymlp, epochs = 2)\n"
   ]
  },
  {
   "cell_type": "code",
   "execution_count": 22,
   "metadata": {},
   "outputs": [
    {
     "data": {
      "image/png": "[encoded data removed]",
      "text/plain": [
       "<Figure size 432x288 with 1 Axes>"
      ]
     },
     "metadata": {},
     "output_type": "display_data"
    },
    {
     "name": "stdout",
     "output_type": "stream",
     "text": [
      "final test accuracy: 0.2933\n",
      "final test loss: 2.1817829748392104\n"
     ]
    }
   ],
   "source": [
    "import matplotlib.pyplot as plt\n",
    "plt.plot(np.arange(0, len(accuracies)), accuracies, label=\"test accuracy\")\n",
    "plt.plot(np.arange(0, len(losses)), losses, label=\"loss\")\n",
    "plt.title('pytorch mlp on CIFAR10', fontsize=17)\n",
    "plt.legend()\n",
    "plt.show()\n",
    "print(\"final test accuracy:\", accuracies[-1])\n",
    "print(\"final test loss:\", losses[-1])"
   ]
  },
  {
   "cell_type": "markdown",
   "metadata": {},
   "source": [
    "## Part2-task1\n",
    "Implement the CNN architecture and the training procedure"
   ]
  },
  {
   "cell_type": "markdown",
   "metadata": {},
   "source": [
    "load the data again"
   ]
  },
  {
   "cell_type": "code",
   "execution_count": null,
   "metadata": {},
   "outputs": [],
   "source": [
    "import torch\n",
    "import torchvision\n",
    "import torchvision.transforms as transforms\n",
    "transform = transforms.Compose([transforms.ToTensor(),transforms.Normalize((0.5, 0.5, 0.5), (0.5, 0.5, 0.5))])\n",
    "\n",
    "trainset = torchvision.datasets.CIFAR10(root='./data', train=True, download=True, transform=transform)\n",
    "trainloader = torch.utils.data.DataLoader(trainset, batch_size=10, shuffle=True, num_workers=2)\n",
    "testset = torchvision.datasets.CIFAR10(root='./data', train=False, download=True, transform=transform)\n",
    "testloader = torch.utils.data.DataLoader(testset, batch_size=10, shuffle=False, num_workers=2)\n",
    "\n",
    "classes = ('plane', 'car', 'bird', 'cat',\n",
    "           'deer', 'dog', 'frog', 'horse', 'ship', 'truck')"
   ]
  },
  {
   "cell_type": "markdown",
   "metadata": {},
   "source": [
    "Building CNN model"
   ]
  },
  {
   "cell_type": "code",
   "execution_count": null,
   "metadata": {},
   "outputs": [],
   "source": [
    "class CNN(nn.Module):\n",
    "\n",
    "  def __init__(self, n_channels=3, n_classes=10):\n",
    "    \"\"\"\n",
    "    Initializes CNN object.\n",
    "\n",
    "    Args:\n",
    "      n_channels: number of input channels\n",
    "      n_classes: number of classes of the classification problem\n",
    "    \"\"\"\n",
    "    super(CNN, self).__init__()\n",
    "    self.conv1 = nn.Conv2d(3, 64, 3, stride=1, padding=1)\n",
    "    self.pool1 = nn.MaxPool2d(3, stride=2, padding=1)\n",
    "\n",
    "    self.conv2 = nn.Conv2d(64, 128, 3, stride=1, padding=1)\n",
    "    self.pool2 = nn.MaxPool2d(3, stride=2, padding=1)\n",
    "\n",
    "    self.conv3 = nn.Conv2d(128, 256, 3, stride=1, padding=1)\n",
    "    self.conv4 = nn.Conv2d(256, 256, 3, stride=1, padding=1)\n",
    "    self.pool3 = nn.MaxPool2d(3, stride=2, padding=1)\n",
    "\n",
    "    self.conv5 = nn.Conv2d(256, 512, 3, stride=1, padding=1)\n",
    "    self.conv6 = nn.Conv2d(512, 512, 3, stride=1, padding=1)\n",
    "    self.pool4 = nn.MaxPool2d(3, stride=2, padding=1)\n",
    "\n",
    "    self.conv7 = nn.Conv2d(512, 512, 3, stride=1, padding=1)\n",
    "    self.conv8 = nn.Conv2d(512, 512, 3, stride=1, padding=1)\n",
    "    self.pool5 = nn.MaxPool2d(3, stride=2, padding=1)\n",
    "\n",
    "    self.pool6 = nn.AvgPool2d(1, stride=1, padding=0)\n",
    "\n",
    "    self.fc1 = nn.Linear(512, 10)\n",
    "\n",
    "  def forward(self, x):\n",
    "    \"\"\"\n",
    "    Performs forward pass of the input.\n",
    "\n",
    "    Args:\n",
    "      x: input to the network\n",
    "    Returns:\n",
    "      out: outputs of the network\n",
    "    \"\"\"\n",
    "    x = self.pool1(F.relu(self.conv1(x)))\n",
    "    x = self.pool2(F.relu(self.conv2(x)))\n",
    "    x = self.pool3(F.relu(self.conv4(F.relu(self.conv3(x)))))\n",
    "    x = self.pool4(F.relu(self.conv6(F.relu(self.conv5(x)))))\n",
    "    x = self.pool5(F.relu(self.conv8(F.relu(self.conv7(x)))))\n",
    "    x = self.pool6(x)\n",
    "    x = x.view(-1, 512)\n",
    "    x = self.fc1(x)\n",
    "\n",
    "    return x"
   ]
  },
  {
   "cell_type": "markdown",
   "metadata": {},
   "source": [
    "Implementing Training method"
   ]
  },
  {
   "cell_type": "code",
   "execution_count": 18,
   "metadata": {},
   "outputs": [
    {
     "name": "stdout",
     "output_type": "stream",
     "text": [
      "0 torch.Size([10, 3, 32, 32]) torch.Size([10])\n"
     ]
    },
    {
     "ename": "RuntimeError",
     "evalue": "size mismatch, m1: [5120 x 1], m2: [512 x 10] at c:\\programdata\\miniconda3\\conda-bld\\pytorch_1532500470552\\work\\aten\\src\\th\\generic/THTensorMath.cpp:2070",
     "output_type": "error",
     "traceback": [
      "\u001b[1;31m---------------------------------------------------------------------------\u001b[0m",
      "\u001b[1;31mRuntimeError\u001b[0m                              Traceback (most recent call last)",
      "\u001b[1;32m<ipython-input-18-3e81fd034e53>\u001b[0m in \u001b[0;36m<module>\u001b[1;34m()\u001b[0m\n\u001b[0;32m     32\u001b[0m     \u001b[0mprint\u001b[0m\u001b[1;33m(\u001b[0m\u001b[1;34m'Finished Training'\u001b[0m\u001b[1;33m)\u001b[0m\u001b[1;33m\u001b[0m\u001b[1;33m\u001b[0m\u001b[0m\n\u001b[0;32m     33\u001b[0m \u001b[0mcnn\u001b[0m \u001b[1;33m=\u001b[0m \u001b[0mCNN\u001b[0m\u001b[1;33m(\u001b[0m\u001b[1;33m)\u001b[0m\u001b[1;33m\u001b[0m\u001b[1;33m\u001b[0m\u001b[0m\n\u001b[1;32m---> 34\u001b[1;33m \u001b[0mtrain\u001b[0m\u001b[1;33m(\u001b[0m\u001b[0mcnn\u001b[0m\u001b[1;33m)\u001b[0m\u001b[1;33m\u001b[0m\u001b[1;33m\u001b[0m\u001b[0m\n\u001b[0m",
      "\u001b[1;32m<ipython-input-18-3e81fd034e53>\u001b[0m in \u001b[0;36mtrain\u001b[1;34m(cnn, epochs)\u001b[0m\n\u001b[0;32m     18\u001b[0m \u001b[1;33m\u001b[0m\u001b[0m\n\u001b[0;32m     19\u001b[0m             \u001b[1;31m# forward + backward + optimize\u001b[0m\u001b[1;33m\u001b[0m\u001b[1;33m\u001b[0m\u001b[1;33m\u001b[0m\u001b[0m\n\u001b[1;32m---> 20\u001b[1;33m             \u001b[0moutputs\u001b[0m \u001b[1;33m=\u001b[0m \u001b[0mcnn\u001b[0m\u001b[1;33m(\u001b[0m\u001b[0minputs\u001b[0m\u001b[1;33m)\u001b[0m\u001b[1;33m\u001b[0m\u001b[1;33m\u001b[0m\u001b[0m\n\u001b[0m\u001b[0;32m     21\u001b[0m             \u001b[0mloss\u001b[0m \u001b[1;33m=\u001b[0m \u001b[0mcriterion\u001b[0m\u001b[1;33m(\u001b[0m\u001b[0moutputs\u001b[0m\u001b[1;33m,\u001b[0m \u001b[0mlabels\u001b[0m\u001b[1;33m)\u001b[0m\u001b[1;33m\u001b[0m\u001b[1;33m\u001b[0m\u001b[0m\n\u001b[0;32m     22\u001b[0m             \u001b[0mloss\u001b[0m\u001b[1;33m.\u001b[0m\u001b[0mbackward\u001b[0m\u001b[1;33m(\u001b[0m\u001b[1;33m)\u001b[0m\u001b[1;33m\u001b[0m\u001b[1;33m\u001b[0m\u001b[0m\n",
      "\u001b[1;32mC:\\APPs\\Anacoda\\Anaconda3\\lib\\site-packages\\torch\\nn\\modules\\module.py\u001b[0m in \u001b[0;36m__call__\u001b[1;34m(self, *input, **kwargs)\u001b[0m\n\u001b[0;32m    475\u001b[0m             \u001b[0mresult\u001b[0m \u001b[1;33m=\u001b[0m \u001b[0mself\u001b[0m\u001b[1;33m.\u001b[0m\u001b[0m_slow_forward\u001b[0m\u001b[1;33m(\u001b[0m\u001b[1;33m*\u001b[0m\u001b[0minput\u001b[0m\u001b[1;33m,\u001b[0m \u001b[1;33m**\u001b[0m\u001b[0mkwargs\u001b[0m\u001b[1;33m)\u001b[0m\u001b[1;33m\u001b[0m\u001b[1;33m\u001b[0m\u001b[0m\n\u001b[0;32m    476\u001b[0m         \u001b[1;32melse\u001b[0m\u001b[1;33m:\u001b[0m\u001b[1;33m\u001b[0m\u001b[1;33m\u001b[0m\u001b[0m\n\u001b[1;32m--> 477\u001b[1;33m             \u001b[0mresult\u001b[0m \u001b[1;33m=\u001b[0m \u001b[0mself\u001b[0m\u001b[1;33m.\u001b[0m\u001b[0mforward\u001b[0m\u001b[1;33m(\u001b[0m\u001b[1;33m*\u001b[0m\u001b[0minput\u001b[0m\u001b[1;33m,\u001b[0m \u001b[1;33m**\u001b[0m\u001b[0mkwargs\u001b[0m\u001b[1;33m)\u001b[0m\u001b[1;33m\u001b[0m\u001b[1;33m\u001b[0m\u001b[0m\n\u001b[0m\u001b[0;32m    478\u001b[0m         \u001b[1;32mfor\u001b[0m \u001b[0mhook\u001b[0m \u001b[1;32min\u001b[0m \u001b[0mself\u001b[0m\u001b[1;33m.\u001b[0m\u001b[0m_forward_hooks\u001b[0m\u001b[1;33m.\u001b[0m\u001b[0mvalues\u001b[0m\u001b[1;33m(\u001b[0m\u001b[1;33m)\u001b[0m\u001b[1;33m:\u001b[0m\u001b[1;33m\u001b[0m\u001b[1;33m\u001b[0m\u001b[0m\n\u001b[0;32m    479\u001b[0m             \u001b[0mhook_result\u001b[0m \u001b[1;33m=\u001b[0m \u001b[0mhook\u001b[0m\u001b[1;33m(\u001b[0m\u001b[0mself\u001b[0m\u001b[1;33m,\u001b[0m \u001b[0minput\u001b[0m\u001b[1;33m,\u001b[0m \u001b[0mresult\u001b[0m\u001b[1;33m)\u001b[0m\u001b[1;33m\u001b[0m\u001b[1;33m\u001b[0m\u001b[0m\n",
      "\u001b[1;32m<ipython-input-10-a7ac1c4e433f>\u001b[0m in \u001b[0;36mforward\u001b[1;34m(self, x)\u001b[0m\n\u001b[0;32m     46\u001b[0m     \u001b[0mx\u001b[0m \u001b[1;33m=\u001b[0m \u001b[0mself\u001b[0m\u001b[1;33m.\u001b[0m\u001b[0mpool5\u001b[0m\u001b[1;33m(\u001b[0m\u001b[0mself\u001b[0m\u001b[1;33m.\u001b[0m\u001b[0mconv8\u001b[0m\u001b[1;33m(\u001b[0m\u001b[0mself\u001b[0m\u001b[1;33m.\u001b[0m\u001b[0mconv7\u001b[0m\u001b[1;33m(\u001b[0m\u001b[0mx\u001b[0m\u001b[1;33m)\u001b[0m\u001b[1;33m)\u001b[0m\u001b[1;33m)\u001b[0m\u001b[1;33m\u001b[0m\u001b[1;33m\u001b[0m\u001b[0m\n\u001b[0;32m     47\u001b[0m     \u001b[0mx\u001b[0m \u001b[1;33m=\u001b[0m \u001b[0mself\u001b[0m\u001b[1;33m.\u001b[0m\u001b[0mpool6\u001b[0m\u001b[1;33m(\u001b[0m\u001b[0mx\u001b[0m\u001b[1;33m)\u001b[0m\u001b[1;33m\u001b[0m\u001b[1;33m\u001b[0m\u001b[0m\n\u001b[1;32m---> 48\u001b[1;33m     \u001b[0mx\u001b[0m \u001b[1;33m=\u001b[0m \u001b[0mself\u001b[0m\u001b[1;33m.\u001b[0m\u001b[0mfc1\u001b[0m\u001b[1;33m(\u001b[0m\u001b[0mx\u001b[0m\u001b[1;33m)\u001b[0m\u001b[1;33m\u001b[0m\u001b[1;33m\u001b[0m\u001b[0m\n\u001b[0m\u001b[0;32m     49\u001b[0m \u001b[1;33m\u001b[0m\u001b[0m\n\u001b[0;32m     50\u001b[0m     \u001b[1;32mreturn\u001b[0m \u001b[0mx\u001b[0m\u001b[1;33m\u001b[0m\u001b[1;33m\u001b[0m\u001b[0m\n",
      "\u001b[1;32mC:\\APPs\\Anacoda\\Anaconda3\\lib\\site-packages\\torch\\nn\\modules\\module.py\u001b[0m in \u001b[0;36m__call__\u001b[1;34m(self, *input, **kwargs)\u001b[0m\n\u001b[0;32m    475\u001b[0m             \u001b[0mresult\u001b[0m \u001b[1;33m=\u001b[0m \u001b[0mself\u001b[0m\u001b[1;33m.\u001b[0m\u001b[0m_slow_forward\u001b[0m\u001b[1;33m(\u001b[0m\u001b[1;33m*\u001b[0m\u001b[0minput\u001b[0m\u001b[1;33m,\u001b[0m \u001b[1;33m**\u001b[0m\u001b[0mkwargs\u001b[0m\u001b[1;33m)\u001b[0m\u001b[1;33m\u001b[0m\u001b[1;33m\u001b[0m\u001b[0m\n\u001b[0;32m    476\u001b[0m         \u001b[1;32melse\u001b[0m\u001b[1;33m:\u001b[0m\u001b[1;33m\u001b[0m\u001b[1;33m\u001b[0m\u001b[0m\n\u001b[1;32m--> 477\u001b[1;33m             \u001b[0mresult\u001b[0m \u001b[1;33m=\u001b[0m \u001b[0mself\u001b[0m\u001b[1;33m.\u001b[0m\u001b[0mforward\u001b[0m\u001b[1;33m(\u001b[0m\u001b[1;33m*\u001b[0m\u001b[0minput\u001b[0m\u001b[1;33m,\u001b[0m \u001b[1;33m**\u001b[0m\u001b[0mkwargs\u001b[0m\u001b[1;33m)\u001b[0m\u001b[1;33m\u001b[0m\u001b[1;33m\u001b[0m\u001b[0m\n\u001b[0m\u001b[0;32m    478\u001b[0m         \u001b[1;32mfor\u001b[0m \u001b[0mhook\u001b[0m \u001b[1;32min\u001b[0m \u001b[0mself\u001b[0m\u001b[1;33m.\u001b[0m\u001b[0m_forward_hooks\u001b[0m\u001b[1;33m.\u001b[0m\u001b[0mvalues\u001b[0m\u001b[1;33m(\u001b[0m\u001b[1;33m)\u001b[0m\u001b[1;33m:\u001b[0m\u001b[1;33m\u001b[0m\u001b[1;33m\u001b[0m\u001b[0m\n\u001b[0;32m    479\u001b[0m             \u001b[0mhook_result\u001b[0m \u001b[1;33m=\u001b[0m \u001b[0mhook\u001b[0m\u001b[1;33m(\u001b[0m\u001b[0mself\u001b[0m\u001b[1;33m,\u001b[0m \u001b[0minput\u001b[0m\u001b[1;33m,\u001b[0m \u001b[0mresult\u001b[0m\u001b[1;33m)\u001b[0m\u001b[1;33m\u001b[0m\u001b[1;33m\u001b[0m\u001b[0m\n",
      "\u001b[1;32mC:\\APPs\\Anacoda\\Anaconda3\\lib\\site-packages\\torch\\nn\\modules\\linear.py\u001b[0m in \u001b[0;36mforward\u001b[1;34m(self, input)\u001b[0m\n\u001b[0;32m     53\u001b[0m \u001b[1;33m\u001b[0m\u001b[0m\n\u001b[0;32m     54\u001b[0m     \u001b[1;32mdef\u001b[0m \u001b[0mforward\u001b[0m\u001b[1;33m(\u001b[0m\u001b[0mself\u001b[0m\u001b[1;33m,\u001b[0m \u001b[0minput\u001b[0m\u001b[1;33m)\u001b[0m\u001b[1;33m:\u001b[0m\u001b[1;33m\u001b[0m\u001b[1;33m\u001b[0m\u001b[0m\n\u001b[1;32m---> 55\u001b[1;33m         \u001b[1;32mreturn\u001b[0m \u001b[0mF\u001b[0m\u001b[1;33m.\u001b[0m\u001b[0mlinear\u001b[0m\u001b[1;33m(\u001b[0m\u001b[0minput\u001b[0m\u001b[1;33m,\u001b[0m \u001b[0mself\u001b[0m\u001b[1;33m.\u001b[0m\u001b[0mweight\u001b[0m\u001b[1;33m,\u001b[0m \u001b[0mself\u001b[0m\u001b[1;33m.\u001b[0m\u001b[0mbias\u001b[0m\u001b[1;33m)\u001b[0m\u001b[1;33m\u001b[0m\u001b[1;33m\u001b[0m\u001b[0m\n\u001b[0m\u001b[0;32m     56\u001b[0m \u001b[1;33m\u001b[0m\u001b[0m\n\u001b[0;32m     57\u001b[0m     \u001b[1;32mdef\u001b[0m \u001b[0mextra_repr\u001b[0m\u001b[1;33m(\u001b[0m\u001b[0mself\u001b[0m\u001b[1;33m)\u001b[0m\u001b[1;33m:\u001b[0m\u001b[1;33m\u001b[0m\u001b[1;33m\u001b[0m\u001b[0m\n",
      "\u001b[1;32mC:\\APPs\\Anacoda\\Anaconda3\\lib\\site-packages\\torch\\nn\\functional.py\u001b[0m in \u001b[0;36mlinear\u001b[1;34m(input, weight, bias)\u001b[0m\n\u001b[0;32m   1024\u001b[0m         \u001b[1;32mreturn\u001b[0m \u001b[0mtorch\u001b[0m\u001b[1;33m.\u001b[0m\u001b[0maddmm\u001b[0m\u001b[1;33m(\u001b[0m\u001b[0mbias\u001b[0m\u001b[1;33m,\u001b[0m \u001b[0minput\u001b[0m\u001b[1;33m,\u001b[0m \u001b[0mweight\u001b[0m\u001b[1;33m.\u001b[0m\u001b[0mt\u001b[0m\u001b[1;33m(\u001b[0m\u001b[1;33m)\u001b[0m\u001b[1;33m)\u001b[0m\u001b[1;33m\u001b[0m\u001b[1;33m\u001b[0m\u001b[0m\n\u001b[0;32m   1025\u001b[0m \u001b[1;33m\u001b[0m\u001b[0m\n\u001b[1;32m-> 1026\u001b[1;33m     \u001b[0moutput\u001b[0m \u001b[1;33m=\u001b[0m \u001b[0minput\u001b[0m\u001b[1;33m.\u001b[0m\u001b[0mmatmul\u001b[0m\u001b[1;33m(\u001b[0m\u001b[0mweight\u001b[0m\u001b[1;33m.\u001b[0m\u001b[0mt\u001b[0m\u001b[1;33m(\u001b[0m\u001b[1;33m)\u001b[0m\u001b[1;33m)\u001b[0m\u001b[1;33m\u001b[0m\u001b[1;33m\u001b[0m\u001b[0m\n\u001b[0m\u001b[0;32m   1027\u001b[0m     \u001b[1;32mif\u001b[0m \u001b[0mbias\u001b[0m \u001b[1;32mis\u001b[0m \u001b[1;32mnot\u001b[0m \u001b[1;32mNone\u001b[0m\u001b[1;33m:\u001b[0m\u001b[1;33m\u001b[0m\u001b[1;33m\u001b[0m\u001b[0m\n\u001b[0;32m   1028\u001b[0m         \u001b[0moutput\u001b[0m \u001b[1;33m+=\u001b[0m \u001b[0mbias\u001b[0m\u001b[1;33m\u001b[0m\u001b[1;33m\u001b[0m\u001b[0m\n",
      "\u001b[1;31mRuntimeError\u001b[0m: size mismatch, m1: [5120 x 1], m2: [512 x 10] at c:\\programdata\\miniconda3\\conda-bld\\pytorch_1532500470552\\work\\aten\\src\\th\\generic/THTensorMath.cpp:2070"
     ]
    }
   ],
   "source": [
    "def getaccuracy():\n",
    "    device = torch.device(\"cuda:0\" if torch.cuda.is_available() else \"cpu\")\n",
    "    correct = 0\n",
    "    total = 0\n",
    "    with torch.no_grad():\n",
    "        for data in testloader:\n",
    "            images, labels = data\n",
    "            images, labels = images.to(device), labels.to(device)\n",
    "            outputs = cnn(images)\n",
    "            _, predicted = torch.max(outputs.data, 1)\n",
    "            total += labels.size(0)\n",
    "            correct += (predicted == labels).sum().item()\n",
    "    return correct / total\n",
    "\n",
    "def train(cnn,epochs=1):\n",
    "    \"\"\"\n",
    "    Performs training and evaluation of MLP model.\n",
    "    NOTE: You should the model on the whole test set each eval_freq iterations.\n",
    "    \"\"\"\n",
    "    losses = []\n",
    "    accuracies = []\n",
    "    device = torch.device(\"cuda:0\" if torch.cuda.is_available() else \"cpu\")\n",
    "    print(\"device is \", device)\n",
    "    cnn.to(device)\n",
    "\n",
    "    criterion = nn.CrossEntropyLoss()\n",
    "    optimizer = optim.Adam(cnn.parameters(), lr=0.001)\n",
    "    for epoch in range(epochs):  # loop over the dataset multiple times\n",
    "\n",
    "        running_loss = 0.0\n",
    "        for i, data in enumerate(trainloader, 0):\n",
    "            # get the inputs\n",
    "            inputs, labels = data\n",
    "            inputs, labels = inputs.to(device), labels.to(device)\n",
    "            # zero the parameter gradients\n",
    "            optimizer.zero_grad()\n",
    "\n",
    "            # forward + backward + optimize\n",
    "            outputs = cnn(inputs)\n",
    "            loss = criterion(outputs, labels)\n",
    "            loss.backward()\n",
    "            optimizer.step()\n",
    "\n",
    "            # print statistics\n",
    "            running_loss += loss.item()\n",
    "            print(end=\"\")\n",
    "            if i % 1000 == 999:    # print every 2000 mini-batches\n",
    "                accuracies.append(getaccuracy())\n",
    "                losses.append(running_loss / 1000)\n",
    "                print('[%d, %5d] loss: %.3f' %\n",
    "                    (epoch + 1, i + 1, running_loss / 1000))\n",
    "                running_loss = 0.0\n",
    "\n",
    "    print('Finished Training')\n",
    "    return accuracies, losses"
   ]
  },
  {
   "cell_type": "markdown",
   "metadata": {},
   "source": [
    "## Part2-task2\n",
    "Analyse the performance of the model by plotting accuracy and loss curves in a Jupyter notebook."
   ]
  },
  {
   "cell_type": "markdown",
   "metadata": {},
   "source": [
    "begin training"
   ]
  },
  {
   "cell_type": "code",
   "execution_count": 17,
   "metadata": {},
   "outputs": [
    {
     "name": "stdout",
     "output_type": "stream",
     "text": [
      "0 torch.Size([10, 3, 32, 32]) torch.Size([10])\n"
     ]
    },
    {
     "ename": "RuntimeError",
     "evalue": "size mismatch, m1: [5120 x 1], m2: [512 x 10] at c:\\programdata\\miniconda3\\conda-bld\\pytorch_1532500470552\\work\\aten\\src\\th\\generic/THTensorMath.cpp:2070",
     "output_type": "error",
     "traceback": [
      "\u001b[1;31m---------------------------------------------------------------------------\u001b[0m",
      "\u001b[1;31mRuntimeError\u001b[0m                              Traceback (most recent call last)",
      "\u001b[1;32m<ipython-input-17-ca562597774c>\u001b[0m in \u001b[0;36m<module>\u001b[1;34m()\u001b[0m\n\u001b[0;32m      1\u001b[0m \u001b[0mcnn\u001b[0m \u001b[1;33m=\u001b[0m \u001b[0mCNN\u001b[0m\u001b[1;33m(\u001b[0m\u001b[1;33m)\u001b[0m\u001b[1;33m\u001b[0m\u001b[1;33m\u001b[0m\u001b[0m\n\u001b[1;32m----> 2\u001b[1;33m \u001b[0mtrain\u001b[0m\u001b[1;33m(\u001b[0m\u001b[0mcnn\u001b[0m\u001b[1;33m)\u001b[0m\u001b[1;33m\u001b[0m\u001b[1;33m\u001b[0m\u001b[0m\n\u001b[0m",
      "\u001b[1;32m<ipython-input-16-7079734fa967>\u001b[0m in \u001b[0;36mtrain\u001b[1;34m(cnn, epochs)\u001b[0m\n\u001b[0;32m     18\u001b[0m \u001b[1;33m\u001b[0m\u001b[0m\n\u001b[0;32m     19\u001b[0m             \u001b[1;31m# forward + backward + optimize\u001b[0m\u001b[1;33m\u001b[0m\u001b[1;33m\u001b[0m\u001b[1;33m\u001b[0m\u001b[0m\n\u001b[1;32m---> 20\u001b[1;33m             \u001b[0moutputs\u001b[0m \u001b[1;33m=\u001b[0m \u001b[0mcnn\u001b[0m\u001b[1;33m(\u001b[0m\u001b[0minputs\u001b[0m\u001b[1;33m)\u001b[0m\u001b[1;33m\u001b[0m\u001b[1;33m\u001b[0m\u001b[0m\n\u001b[0m\u001b[0;32m     21\u001b[0m             \u001b[0mloss\u001b[0m \u001b[1;33m=\u001b[0m \u001b[0mcriterion\u001b[0m\u001b[1;33m(\u001b[0m\u001b[0moutputs\u001b[0m\u001b[1;33m,\u001b[0m \u001b[0mlabels\u001b[0m\u001b[1;33m)\u001b[0m\u001b[1;33m\u001b[0m\u001b[1;33m\u001b[0m\u001b[0m\n\u001b[0;32m     22\u001b[0m             \u001b[0mloss\u001b[0m\u001b[1;33m.\u001b[0m\u001b[0mbackward\u001b[0m\u001b[1;33m(\u001b[0m\u001b[1;33m)\u001b[0m\u001b[1;33m\u001b[0m\u001b[1;33m\u001b[0m\u001b[0m\n",
      "\u001b[1;32mC:\\APPs\\Anacoda\\Anaconda3\\lib\\site-packages\\torch\\nn\\modules\\module.py\u001b[0m in \u001b[0;36m__call__\u001b[1;34m(self, *input, **kwargs)\u001b[0m\n\u001b[0;32m    475\u001b[0m             \u001b[0mresult\u001b[0m \u001b[1;33m=\u001b[0m \u001b[0mself\u001b[0m\u001b[1;33m.\u001b[0m\u001b[0m_slow_forward\u001b[0m\u001b[1;33m(\u001b[0m\u001b[1;33m*\u001b[0m\u001b[0minput\u001b[0m\u001b[1;33m,\u001b[0m \u001b[1;33m**\u001b[0m\u001b[0mkwargs\u001b[0m\u001b[1;33m)\u001b[0m\u001b[1;33m\u001b[0m\u001b[1;33m\u001b[0m\u001b[0m\n\u001b[0;32m    476\u001b[0m         \u001b[1;32melse\u001b[0m\u001b[1;33m:\u001b[0m\u001b[1;33m\u001b[0m\u001b[1;33m\u001b[0m\u001b[0m\n\u001b[1;32m--> 477\u001b[1;33m             \u001b[0mresult\u001b[0m \u001b[1;33m=\u001b[0m \u001b[0mself\u001b[0m\u001b[1;33m.\u001b[0m\u001b[0mforward\u001b[0m\u001b[1;33m(\u001b[0m\u001b[1;33m*\u001b[0m\u001b[0minput\u001b[0m\u001b[1;33m,\u001b[0m \u001b[1;33m**\u001b[0m\u001b[0mkwargs\u001b[0m\u001b[1;33m)\u001b[0m\u001b[1;33m\u001b[0m\u001b[1;33m\u001b[0m\u001b[0m\n\u001b[0m\u001b[0;32m    478\u001b[0m         \u001b[1;32mfor\u001b[0m \u001b[0mhook\u001b[0m \u001b[1;32min\u001b[0m \u001b[0mself\u001b[0m\u001b[1;33m.\u001b[0m\u001b[0m_forward_hooks\u001b[0m\u001b[1;33m.\u001b[0m\u001b[0mvalues\u001b[0m\u001b[1;33m(\u001b[0m\u001b[1;33m)\u001b[0m\u001b[1;33m:\u001b[0m\u001b[1;33m\u001b[0m\u001b[1;33m\u001b[0m\u001b[0m\n\u001b[0;32m    479\u001b[0m             \u001b[0mhook_result\u001b[0m \u001b[1;33m=\u001b[0m \u001b[0mhook\u001b[0m\u001b[1;33m(\u001b[0m\u001b[0mself\u001b[0m\u001b[1;33m,\u001b[0m \u001b[0minput\u001b[0m\u001b[1;33m,\u001b[0m \u001b[0mresult\u001b[0m\u001b[1;33m)\u001b[0m\u001b[1;33m\u001b[0m\u001b[1;33m\u001b[0m\u001b[0m\n",
      "\u001b[1;32m<ipython-input-10-a7ac1c4e433f>\u001b[0m in \u001b[0;36mforward\u001b[1;34m(self, x)\u001b[0m\n\u001b[0;32m     46\u001b[0m     \u001b[0mx\u001b[0m \u001b[1;33m=\u001b[0m \u001b[0mself\u001b[0m\u001b[1;33m.\u001b[0m\u001b[0mpool5\u001b[0m\u001b[1;33m(\u001b[0m\u001b[0mself\u001b[0m\u001b[1;33m.\u001b[0m\u001b[0mconv8\u001b[0m\u001b[1;33m(\u001b[0m\u001b[0mself\u001b[0m\u001b[1;33m.\u001b[0m\u001b[0mconv7\u001b[0m\u001b[1;33m(\u001b[0m\u001b[0mx\u001b[0m\u001b[1;33m)\u001b[0m\u001b[1;33m)\u001b[0m\u001b[1;33m)\u001b[0m\u001b[1;33m\u001b[0m\u001b[1;33m\u001b[0m\u001b[0m\n\u001b[0;32m     47\u001b[0m     \u001b[0mx\u001b[0m \u001b[1;33m=\u001b[0m \u001b[0mself\u001b[0m\u001b[1;33m.\u001b[0m\u001b[0mpool6\u001b[0m\u001b[1;33m(\u001b[0m\u001b[0mx\u001b[0m\u001b[1;33m)\u001b[0m\u001b[1;33m\u001b[0m\u001b[1;33m\u001b[0m\u001b[0m\n\u001b[1;32m---> 48\u001b[1;33m     \u001b[0mx\u001b[0m \u001b[1;33m=\u001b[0m \u001b[0mself\u001b[0m\u001b[1;33m.\u001b[0m\u001b[0mfc1\u001b[0m\u001b[1;33m(\u001b[0m\u001b[0mx\u001b[0m\u001b[1;33m)\u001b[0m\u001b[1;33m\u001b[0m\u001b[1;33m\u001b[0m\u001b[0m\n\u001b[0m\u001b[0;32m     49\u001b[0m \u001b[1;33m\u001b[0m\u001b[0m\n\u001b[0;32m     50\u001b[0m     \u001b[1;32mreturn\u001b[0m \u001b[0mx\u001b[0m\u001b[1;33m\u001b[0m\u001b[1;33m\u001b[0m\u001b[0m\n",
      "\u001b[1;32mC:\\APPs\\Anacoda\\Anaconda3\\lib\\site-packages\\torch\\nn\\modules\\module.py\u001b[0m in \u001b[0;36m__call__\u001b[1;34m(self, *input, **kwargs)\u001b[0m\n\u001b[0;32m    475\u001b[0m             \u001b[0mresult\u001b[0m \u001b[1;33m=\u001b[0m \u001b[0mself\u001b[0m\u001b[1;33m.\u001b[0m\u001b[0m_slow_forward\u001b[0m\u001b[1;33m(\u001b[0m\u001b[1;33m*\u001b[0m\u001b[0minput\u001b[0m\u001b[1;33m,\u001b[0m \u001b[1;33m**\u001b[0m\u001b[0mkwargs\u001b[0m\u001b[1;33m)\u001b[0m\u001b[1;33m\u001b[0m\u001b[1;33m\u001b[0m\u001b[0m\n\u001b[0;32m    476\u001b[0m         \u001b[1;32melse\u001b[0m\u001b[1;33m:\u001b[0m\u001b[1;33m\u001b[0m\u001b[1;33m\u001b[0m\u001b[0m\n\u001b[1;32m--> 477\u001b[1;33m             \u001b[0mresult\u001b[0m \u001b[1;33m=\u001b[0m \u001b[0mself\u001b[0m\u001b[1;33m.\u001b[0m\u001b[0mforward\u001b[0m\u001b[1;33m(\u001b[0m\u001b[1;33m*\u001b[0m\u001b[0minput\u001b[0m\u001b[1;33m,\u001b[0m \u001b[1;33m**\u001b[0m\u001b[0mkwargs\u001b[0m\u001b[1;33m)\u001b[0m\u001b[1;33m\u001b[0m\u001b[1;33m\u001b[0m\u001b[0m\n\u001b[0m\u001b[0;32m    478\u001b[0m         \u001b[1;32mfor\u001b[0m \u001b[0mhook\u001b[0m \u001b[1;32min\u001b[0m \u001b[0mself\u001b[0m\u001b[1;33m.\u001b[0m\u001b[0m_forward_hooks\u001b[0m\u001b[1;33m.\u001b[0m\u001b[0mvalues\u001b[0m\u001b[1;33m(\u001b[0m\u001b[1;33m)\u001b[0m\u001b[1;33m:\u001b[0m\u001b[1;33m\u001b[0m\u001b[1;33m\u001b[0m\u001b[0m\n\u001b[0;32m    479\u001b[0m             \u001b[0mhook_result\u001b[0m \u001b[1;33m=\u001b[0m \u001b[0mhook\u001b[0m\u001b[1;33m(\u001b[0m\u001b[0mself\u001b[0m\u001b[1;33m,\u001b[0m \u001b[0minput\u001b[0m\u001b[1;33m,\u001b[0m \u001b[0mresult\u001b[0m\u001b[1;33m)\u001b[0m\u001b[1;33m\u001b[0m\u001b[1;33m\u001b[0m\u001b[0m\n",
      "\u001b[1;32mC:\\APPs\\Anacoda\\Anaconda3\\lib\\site-packages\\torch\\nn\\modules\\linear.py\u001b[0m in \u001b[0;36mforward\u001b[1;34m(self, input)\u001b[0m\n\u001b[0;32m     53\u001b[0m \u001b[1;33m\u001b[0m\u001b[0m\n\u001b[0;32m     54\u001b[0m     \u001b[1;32mdef\u001b[0m \u001b[0mforward\u001b[0m\u001b[1;33m(\u001b[0m\u001b[0mself\u001b[0m\u001b[1;33m,\u001b[0m \u001b[0minput\u001b[0m\u001b[1;33m)\u001b[0m\u001b[1;33m:\u001b[0m\u001b[1;33m\u001b[0m\u001b[1;33m\u001b[0m\u001b[0m\n\u001b[1;32m---> 55\u001b[1;33m         \u001b[1;32mreturn\u001b[0m \u001b[0mF\u001b[0m\u001b[1;33m.\u001b[0m\u001b[0mlinear\u001b[0m\u001b[1;33m(\u001b[0m\u001b[0minput\u001b[0m\u001b[1;33m,\u001b[0m \u001b[0mself\u001b[0m\u001b[1;33m.\u001b[0m\u001b[0mweight\u001b[0m\u001b[1;33m,\u001b[0m \u001b[0mself\u001b[0m\u001b[1;33m.\u001b[0m\u001b[0mbias\u001b[0m\u001b[1;33m)\u001b[0m\u001b[1;33m\u001b[0m\u001b[1;33m\u001b[0m\u001b[0m\n\u001b[0m\u001b[0;32m     56\u001b[0m \u001b[1;33m\u001b[0m\u001b[0m\n\u001b[0;32m     57\u001b[0m     \u001b[1;32mdef\u001b[0m \u001b[0mextra_repr\u001b[0m\u001b[1;33m(\u001b[0m\u001b[0mself\u001b[0m\u001b[1;33m)\u001b[0m\u001b[1;33m:\u001b[0m\u001b[1;33m\u001b[0m\u001b[1;33m\u001b[0m\u001b[0m\n",
      "\u001b[1;32mC:\\APPs\\Anacoda\\Anaconda3\\lib\\site-packages\\torch\\nn\\functional.py\u001b[0m in \u001b[0;36mlinear\u001b[1;34m(input, weight, bias)\u001b[0m\n\u001b[0;32m   1024\u001b[0m         \u001b[1;32mreturn\u001b[0m \u001b[0mtorch\u001b[0m\u001b[1;33m.\u001b[0m\u001b[0maddmm\u001b[0m\u001b[1;33m(\u001b[0m\u001b[0mbias\u001b[0m\u001b[1;33m,\u001b[0m \u001b[0minput\u001b[0m\u001b[1;33m,\u001b[0m \u001b[0mweight\u001b[0m\u001b[1;33m.\u001b[0m\u001b[0mt\u001b[0m\u001b[1;33m(\u001b[0m\u001b[1;33m)\u001b[0m\u001b[1;33m)\u001b[0m\u001b[1;33m\u001b[0m\u001b[1;33m\u001b[0m\u001b[0m\n\u001b[0;32m   1025\u001b[0m \u001b[1;33m\u001b[0m\u001b[0m\n\u001b[1;32m-> 1026\u001b[1;33m     \u001b[0moutput\u001b[0m \u001b[1;33m=\u001b[0m \u001b[0minput\u001b[0m\u001b[1;33m.\u001b[0m\u001b[0mmatmul\u001b[0m\u001b[1;33m(\u001b[0m\u001b[0mweight\u001b[0m\u001b[1;33m.\u001b[0m\u001b[0mt\u001b[0m\u001b[1;33m(\u001b[0m\u001b[1;33m)\u001b[0m\u001b[1;33m)\u001b[0m\u001b[1;33m\u001b[0m\u001b[1;33m\u001b[0m\u001b[0m\n\u001b[0m\u001b[0;32m   1027\u001b[0m     \u001b[1;32mif\u001b[0m \u001b[0mbias\u001b[0m \u001b[1;32mis\u001b[0m \u001b[1;32mnot\u001b[0m \u001b[1;32mNone\u001b[0m\u001b[1;33m:\u001b[0m\u001b[1;33m\u001b[0m\u001b[1;33m\u001b[0m\u001b[0m\n\u001b[0;32m   1028\u001b[0m         \u001b[0moutput\u001b[0m \u001b[1;33m+=\u001b[0m \u001b[0mbias\u001b[0m\u001b[1;33m\u001b[0m\u001b[1;33m\u001b[0m\u001b[0m\n",
      "\u001b[1;31mRuntimeError\u001b[0m: size mismatch, m1: [5120 x 1], m2: [512 x 10] at c:\\programdata\\miniconda3\\conda-bld\\pytorch_1532500470552\\work\\aten\\src\\th\\generic/THTensorMath.cpp:2070"
     ]
    }
   ],
   "source": [
    "cnn = CNN()\n",
    "accuracies, losses = train(cnn, epochs=3)\n",
    "plt.plot(np.arange(0, len(accuracies)), accuracies, label=\"test accuracy\")\n",
    "plt.plot(np.arange(0, len(losses)), losses, label=\"loss\")\n",
    "plt.title('pytorch cnn on CIFAR10', fontsize=17)\n",
    "plt.legend()\n",
    "plt.show()\n",
    "print(\"final test accuracy:\", accuracies[-1])\n",
    "print(\"final test loss:\", losses[-1])"
   ]
  },
  {
   "cell_type": "markdown",
   "metadata": {},
   "source": [
    "## Part3-task1\n",
    "Implement the RNN without using torch.nn.RNN and torch.nn.LSTM. "
   ]
  },
  {
   "cell_type": "markdown",
   "metadata": {},
   "source": [
    "## Part3-task2\n",
    "Given the RNN implemented in Task 1 and a palindrome of length T, the network should be able to predict the T-th digit given the preceeding T − 1 ones."
   ]
  },
  {
   "cell_type": "code",
   "execution_count": null,
   "metadata": {},
   "outputs": [],
   "source": []
  }
 ],
 "metadata": {
  "kernelspec": {
   "display_name": "Python 3",
   "language": "python",
   "name": "python3"
  },
  "language_info": {
   "codemirror_mode": {
    "name": "ipython",
    "version": 3
   },
   "file_extension": ".py",
   "mimetype": "text/x-python",
   "name": "python",
   "nbconvert_exporter": "python",
   "pygments_lexer": "ipython3",
   "version": "3.6.6"
  }
 },
 "nbformat": 4,
 "nbformat_minor": 2
}
