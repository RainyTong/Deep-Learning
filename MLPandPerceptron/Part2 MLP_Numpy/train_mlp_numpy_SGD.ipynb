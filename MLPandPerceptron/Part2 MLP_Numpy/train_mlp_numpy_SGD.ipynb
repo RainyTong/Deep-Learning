{
 "cells": [
  {
   "cell_type": "code",
   "execution_count": 3,
   "metadata": {},
   "outputs": [],
   "source": [
    "from __future__ import absolute_import\n",
    "from __future__ import division\n",
    "from __future__ import print_function\n",
    "\n",
    "import argparse\n",
    "import numpy as np\n",
    "import os\n",
    "from sklearn import datasets\n",
    "import matplotlib.pyplot as plt\n",
    "import random\n",
    "\n",
    "from mlp import MLP\n",
    "from modules import CrossEntropy"
   ]
  },
  {
   "cell_type": "code",
   "execution_count": 4,
   "metadata": {},
   "outputs": [],
   "source": [
    "# Default constants\n",
    "DNN_HIDDEN_UNITS_DEFAULT = '20'\n",
    "LEARNING_RATE_DEFAULT = 1e-2\n",
    "MAX_EPOCHS_DEFAULT = 1500\n",
    "EVAL_FREQ_DEFAULT = 10\n",
    "\n",
    "FLAGS = None "
   ]
  },
  {
   "cell_type": "markdown",
   "metadata": {},
   "source": [
    "#### The variable to specify BGD or SGD you will use:\n",
    "If you want to use BGD, set the value as \"BGD\"; or if you want SGD, set the value as \"SGD\"."
   ]
  },
  {
   "cell_type": "code",
   "execution_count": 5,
   "metadata": {},
   "outputs": [],
   "source": [
    "flag_bgd_sgd = \"SGD\" "
   ]
  },
  {
   "cell_type": "code",
   "execution_count": 6,
   "metadata": {},
   "outputs": [],
   "source": [
    "# Generate dataset\n",
    "x,t = datasets.make_moons(1000)"
   ]
  },
  {
   "cell_type": "code",
   "execution_count": 7,
   "metadata": {},
   "outputs": [
    {
     "data": {
      "text/plain": [
       "<matplotlib.collections.PathCollection at 0x11ea47ef0>"
      ]
     },
     "execution_count": 7,
     "metadata": {},
     "output_type": "execute_result"
    },
    {
     "data": {
      "image/png": "[encoded data removed]",
      "text/plain": [
       "<Figure size 432x288 with 1 Axes>"
      ]
     },
     "metadata": {
      "needs_background": "light"
     },
     "output_type": "display_data"
    }
   ],
   "source": [
    "# Show how x looks\n",
    "plt.scatter(x[:,0],x[:,1])"
   ]
  },
  {
   "cell_type": "code",
   "execution_count": 8,
   "metadata": {},
   "outputs": [],
   "source": [
    "# Convert t to one-hot\n",
    "def convert_to_one_hot(y, C):\n",
    "    return np.eye(C)[y.reshape(-1)]\n",
    "    \n",
    "t = convert_to_one_hot(t,2)\n",
    "\n",
    "# Devide training data and test data\n",
    "train_x = x[:800]\n",
    "train_t = t[:800]\n",
    "test_x = x[800:]\n",
    "test_t = t[800:]"
   ]
  },
  {
   "cell_type": "code",
   "execution_count": 9,
   "metadata": {},
   "outputs": [
    {
     "data": {
      "text/plain": [
       "<matplotlib.collections.PathCollection at 0x120af4358>"
      ]
     },
     "execution_count": 9,
     "metadata": {},
     "output_type": "execute_result"
    },
    {
     "data": {
      "image/png": "[encoded data removed]",
      "text/plain": [
       "<Figure size 432x288 with 1 Axes>"
      ]
     },
     "metadata": {
      "needs_background": "light"
     },
     "output_type": "display_data"
    }
   ],
   "source": [
    "# Show how test data x looks\n",
    "plt.scatter(test_x[:,0],test_x[:,1])"
   ]
  },
  {
   "cell_type": "code",
   "execution_count": 10,
   "metadata": {},
   "outputs": [],
   "source": [
    "def accuracy(predictions, targets, flag):\n",
    "    \"\"\"\n",
    "    Computes the prediction accuracy, i.e., the average of correct predictions\n",
    "    of the network.\n",
    "    Args:\n",
    "        predictions: 2D float array of size [number_of_data_samples, n_classes]\n",
    "        labels: 2D int array of size [number_of_data_samples, n_classes] with one-hot encoding of ground-truth labels\n",
    "    Returns:\n",
    "        accuracy: scalar float, the accuracy of predictions.\n",
    "    \"\"\"\n",
    "    n_accu = 0\n",
    "\n",
    "    if flag == \"train\":\n",
    "        for i in range(len(predictions)):\n",
    "      \n",
    "            if predictions[i][0][0] > predictions[i][0][1] and targets[i][0][0] > targets[i][0][1]:\n",
    "                n_accu = n_accu + 1\n",
    "            elif predictions[i][0][0] < predictions[i][0][1] and targets[i][0][0] < targets[i][0][1]:\n",
    "                n_accu = n_accu + 1\n",
    "    elif flag == \"test\":\n",
    "        for i in range(len(predictions)):\n",
    "            if predictions[i][0][0] > predictions[i][0][1] and targets[i][0] > targets[i][1]:\n",
    "                n_accu = n_accu + 1\n",
    "            elif predictions[i][0][0] < predictions[i][0][1] and targets[i][0] < targets[i][1]:\n",
    "                n_accu = n_accu + 1\n",
    "\n",
    "    accuracy = n_accu/len(predictions)\n",
    "    return accuracy"
   ]
  },
  {
   "cell_type": "markdown",
   "metadata": {},
   "source": [
    "### Batch Gradient Descent:\n",
    "This function will return three arrays to show the accuracy curves for both training and test data and trend of loss: \n",
    "- *accu_train*: It records the accuracy of training data each eval_freq iterations.\n",
    "- *accu_test*: It records the accuracy of training data each eval_freq iterations.\n",
    "- *losses*: It records a loss every epoch."
   ]
  },
  {
   "cell_type": "code",
   "execution_count": 11,
   "metadata": {},
   "outputs": [],
   "source": [
    "def BGD_train():\n",
    "    \"\"\"\n",
    "    Performs training and evaluation of MLP model.\n",
    "    NOTE: You should evaluate the model on the whole test set each eval_freq iterations.\n",
    "    \"\"\"\n",
    "    # YOUR TRAINING CODE GOES HERE\n",
    "    # Define parameters passed to MLP()\n",
    "    n_inputs = len(train_x[0])\n",
    "    \n",
    "    n_hidden = list(map(int, DNN_HIDDEN_UNITS_DEFAULT.split()))\n",
    "\n",
    "    n_classes = len(train_t[0])\n",
    "    \n",
    "    # Define a MLP Object\n",
    "    mlp = MLP(n_inputs, n_hidden, n_classes)\n",
    "\n",
    "    # train   \n",
    "    predictions_train = []\n",
    "    labels_train = []\n",
    "    accu_train = []\n",
    "    losses = []\n",
    "\n",
    "    for i in range(MAX_EPOCHS_DEFAULT):\n",
    "\n",
    "\n",
    "        if i != 0 and i % EVAL_FREQ_DEFAULT == 0:\n",
    "            accu = accuracy(predictions_train, labels_train, \"train\")\n",
    "            accu_train.append(accu)\n",
    "            predictions_train = []\n",
    "            labels_train = []\n",
    "\n",
    "        for i in range(len(train_x)):\n",
    "            input_x = train_x[i].reshape(1,-1)\n",
    "            label_t = train_t[i].reshape(1,-1)\n",
    "            out = mlp.forward(input_x)\n",
    "            loss = CrossEntropy().forward(out, label_t)\n",
    "            mlp.backward(out, label_t)\n",
    "\n",
    "        for i in range(len(n_hidden)+1):\n",
    " \n",
    "            mlp.linear_layers[i].params['weight'] = mlp.linear_layers[i].params['weight'] - LEARNING_RATE_DEFAULT * (mlp.linear_layers[i].sum_grads['weight'] / len(train_x))\n",
    "            mlp.linear_layers[i].params['bias'] = mlp.linear_layers[i].params['bias'] - LEARNING_RATE_DEFAULT * (mlp.linear_layers[i].sum_grads['bias'] / len(train_x))\n",
    "            mlp.linear_layers[i].sum_grads['weight']  = np.zeros((mlp.linear_layers[i].in_features, mlp.linear_layers[i].out_features))\n",
    "            mlp.linear_layers[i].sum_grads['bias'] = 0\n",
    "         \n",
    "        \n",
    "        losses.append(loss)\n",
    "        predictions_train.append(out)\n",
    "        labels_train.append(label_t)\n",
    "    \n",
    "    \n",
    "    # test\n",
    "    predictions_test = []\n",
    "    labels_test = []\n",
    "    accu_test = []\n",
    "    \n",
    "    for i in range(len(test_x)):\n",
    "        if i != 0 and i % EVAL_FREQ_DEFAULT == 0:\n",
    "            accu = accuracy(predictions_test, labels_test, \"test\")\n",
    "            accu_test.append(accu)\n",
    "            predictions_test = []\n",
    "            labels_test = []\n",
    "        \n",
    "        input_x = test_x[i]\n",
    "        label_t = test_t[i]\n",
    "        \n",
    "        out = mlp.forward(input_x)\n",
    "        \n",
    "        predictions_test.append(out)\n",
    "        labels_test.append(label_t)\n",
    "        \n",
    "    return accu_train, accu_test, losses\n"
   ]
  },
  {
   "cell_type": "markdown",
   "metadata": {},
   "source": [
    "### Stochastic Gradient Descent:\n",
    "This function will return three arrays to show the accuracy curves for both training and test data and trend of loss: \n",
    "- *accu_train*: It records the accuracy of training data each eval_freq iterations.\n",
    "- *accu_test*: It records the accuracy of training data each eval_freq iterations.\n",
    "- *losses*: It records a loss every epoch."
   ]
  },
  {
   "cell_type": "code",
   "execution_count": 12,
   "metadata": {},
   "outputs": [],
   "source": [
    "def SGD_train():\n",
    "    \"\"\"\n",
    "    Performs training and evaluation of MLP model.\n",
    "    NOTE: You should evaluate the model on the whole test set each eval_freq iterations.\n",
    "    \"\"\"\n",
    "    # YOUR TRAINING CODE GOES HERE\n",
    "\n",
    "    # Define parameters passed to MLP()\n",
    "    n_inputs = len(train_x[0])\n",
    "    \n",
    "    n_hidden = list(map(int, DNN_HIDDEN_UNITS_DEFAULT.split()))\n",
    "\n",
    "    n_classes = len(train_t[0])\n",
    "    \n",
    "    # Define a MLP Object\n",
    "    mlp = MLP(n_inputs, n_hidden, n_classes)\n",
    "\n",
    "    # train\n",
    "    predictions_train = []\n",
    "    labels_train = []\n",
    "    accu_train = []\n",
    "    losses = []\n",
    "\n",
    "    for i in range(MAX_EPOCHS_DEFAULT):\n",
    "      \n",
    "\n",
    "        if i != 0 and i % EVAL_FREQ_DEFAULT == 0:\n",
    "            accu = accuracy(predictions_train, labels_train, \"train\")\n",
    "            accu_train.append(accu)\n",
    "            predictions_train = []\n",
    "            labels_train = []\n",
    "\n",
    "        randnum = random.randint(0,100)\n",
    "        random.seed(randnum)\n",
    "        random.shuffle(train_x)\n",
    "        random.seed(randnum)\n",
    "        random.shuffle(train_t)\n",
    "        for i in range(len(train_x)):\n",
    "            input_x = train_x[i].reshape(1,-1)\n",
    "            label_t = train_t[i].reshape(1,-1)\n",
    "            out = mlp.forward(input_x)\n",
    "            loss = CrossEntropy().forward(out, label_t)\n",
    "            mlp.backward(out, label_t)\n",
    "            for l in mlp.linear_layers:\n",
    "                l.params['weight'] = l.params['weight'] - LEARNING_RATE_DEFAULT * l.grads['weight']\n",
    "                l.params['bias'] = l.params['bias'] - LEARNING_RATE_DEFAULT * l.grads['bias']\n",
    "        losses.append(loss)\n",
    "        predictions_train.append(out)\n",
    "        labels_train.append(label_t)\n",
    "\n",
    "    \n",
    "    # test\n",
    "    predictions_test = []\n",
    "    labels_test = []\n",
    "    accu_test = []\n",
    "    \n",
    "    for i in range(len(test_x)):\n",
    "        if i != 0 and i % EVAL_FREQ_DEFAULT == 0:\n",
    "            accu = accuracy(predictions_test, labels_test, \"test\")\n",
    "            accu_test.append(accu)\n",
    "            predictions_test = []\n",
    "            labels_test = []\n",
    "        \n",
    "        input_x = test_x[i]\n",
    "        label_t = test_t[i]\n",
    "        \n",
    "        out = mlp.forward(input_x)\n",
    "        \n",
    "        predictions_test.append(out)\n",
    "        labels_test.append(label_t)\n",
    "    \n",
    "\n",
    "    return accu_train, accu_test, losses"
   ]
  },
  {
   "cell_type": "code",
   "execution_count": 13,
   "metadata": {},
   "outputs": [],
   "source": [
    "def draw_figure(accu_train, accu_test, losses):\n",
    "\n",
    "    plt.title('Accuracy of Training Data and Testing Data')\n",
    "    \n",
    "    plt.plot(accu_train, color='red', label='training accuracy')\n",
    "    \n",
    "    plt.plot(accu_test, color='green', label='testing accuracy')\n",
    "    \n",
    "    plt.xlabel('Sample Time')\n",
    "    \n",
    "    plt.ylabel('Accuracy')\n",
    "    \n",
    "    plt.legend()\n",
    "    \n",
    "    plt.show()\n",
    "    \n",
    "    plt.title('Loss Trend')\n",
    "    \n",
    "    plt.plot(losses)\n",
    "    \n",
    "    plt.xlabel('Epoch')\n",
    "    \n",
    "    plt.ylabel('Loss')\n",
    "    \n",
    "    plt.show()\n",
    "    "
   ]
  },
  {
   "cell_type": "code",
   "execution_count": 14,
   "metadata": {},
   "outputs": [],
   "source": [
    "def main(flag_bgd_sgd):\n",
    "    \"\"\"\n",
    "    Main function\n",
    "    \"\"\" \n",
    "    if flag_bgd_sgd == \"SGD\":\n",
    "        accu_train, accu_test, losses = SGD_train()\n",
    "    elif flag_bgd_sgd == \"BGD\":\n",
    "        accu_train, accu_test, losses = BGD_train()\n",
    "    \n",
    "    draw_figure(accu_train, accu_test, losses)"
   ]
  },
  {
   "cell_type": "code",
   "execution_count": 15,
   "metadata": {},
   "outputs": [
    {
     "data": {
      "image/png": "[encoded data removed]",
      "text/plain": [
       "<Figure size 432x288 with 1 Axes>"
      ]
     },
     "metadata": {
      "needs_background": "light"
     },
     "output_type": "display_data"
    },
    {
     "data": {
      "image/png": "[encoded data removed]",
      "text/plain": [
       "<Figure size 432x288 with 1 Axes>"
      ]
     },
     "metadata": {
      "needs_background": "light"
     },
     "output_type": "display_data"
    }
   ],
   "source": [
    "if __name__ == '__main__':\n",
    "    # Command line arguments\n",
    "    parser = argparse.ArgumentParser()\n",
    "    parser.add_argument('--dnn_hidden_units', type = str, default = DNN_HIDDEN_UNITS_DEFAULT,\n",
    "                      help='Comma separated list of number of units in each hidden layer')\n",
    "    parser.add_argument('--learning_rate', type = float, default = LEARNING_RATE_DEFAULT,\n",
    "                      help='Learning rate')\n",
    "    parser.add_argument('--max_steps', type = int, default = MAX_EPOCHS_DEFAULT,\n",
    "                      help='Number of epochs to run trainer.')\n",
    "    parser.add_argument('--eval_freq', type=int, default=EVAL_FREQ_DEFAULT,\n",
    "                          help='Frequency of evaluation on the test set')\n",
    "    FLAGS, unparsed = parser.parse_known_args()\n",
    "    main(flag_bgd_sgd)"
   ]
  },
  {
   "cell_type": "markdown",
   "metadata": {},
   "source": [
    "# Note:\n",
    "**Both train_mlp_numpy_BGD.ipynb and train_mlp_numpy_SGD.ipynb can specify which training method to use, w.r.t. BGD or SGD. I create these two files just to show the different results of BGD and SGD. So in this ipynb, the result of SGD is shown here.**"
   ]
  },
  {
   "cell_type": "code",
   "execution_count": null,
   "metadata": {},
   "outputs": [],
   "source": []
  }
 ],
 "metadata": {
  "kernelspec": {
   "display_name": "Python 3",
   "language": "python",
   "name": "python3"
  },
  "language_info": {
   "codemirror_mode": {
    "name": "ipython",
    "version": 3
   },
   "file_extension": ".py",
   "mimetype": "text/x-python",
   "name": "python",
   "nbconvert_exporter": "python",
   "pygments_lexer": "ipython3",
   "version": "3.6.6"
  }
 },
 "nbformat": 4,
 "nbformat_minor": 2
}
